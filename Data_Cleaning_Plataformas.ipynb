{
 "cells": [
  {
   "cell_type": "markdown",
   "id": "97fc602e",
   "metadata": {},
   "source": [
    "# Proyecto Indivudual Machine Learning Operations (MLOps)"
   ]
  },
  {
   "cell_type": "markdown",
   "id": "88137a02",
   "metadata": {},
   "source": [
    "## Transformaciones"
   ]
  },
  {
   "cell_type": "markdown",
   "id": "b0eb625c",
   "metadata": {},
   "source": [
    "### Importar librerias"
   ]
  },
  {
   "cell_type": "code",
   "execution_count": 1,
   "id": "0b6d32cb",
   "metadata": {},
   "outputs": [],
   "source": [
    "import pandas as pd\n",
    "import datetime"
   ]
  },
  {
   "cell_type": "markdown",
   "id": "34b0350d",
   "metadata": {},
   "source": [
    "### Cargar los archivos csv"
   ]
  },
  {
   "cell_type": "code",
   "execution_count": 2,
   "id": "2df2c593",
   "metadata": {},
   "outputs": [],
   "source": [
    "amazon_data = pd.read_csv(filepath_or_buffer=\"Datos_Plataformas/amazon_prime_titles.csv\")   #datos de amazon\n",
    "disney_data = pd.read_csv(filepath_or_buffer=\"Datos_Plataformas/disney_plus_titles.csv\")    #datos de disney\n",
    "hulu_data = pd.read_csv(filepath_or_buffer=\"Datos_Plataformas/hulu_titles.csv\")             #datos de hulu\n",
    "netflix_data = pd.read_csv(filepath_or_buffer=\"Datos_Plataformas/netflix_titles.csv\")       #datos de netflix"
   ]
  },
  {
   "cell_type": "markdown",
   "id": "393d8264",
   "metadata": {},
   "source": [
    "### Visualizacion de la data"
   ]
  },
  {
   "cell_type": "markdown",
   "id": "78d15cbb",
   "metadata": {},
   "source": [
    "#### Data de Amazon"
   ]
  },
  {
   "cell_type": "code",
   "execution_count": 3,
   "id": "e624ed4d",
   "metadata": {
    "scrolled": false
   },
   "outputs": [
    {
     "data": {
      "text/html": [
       "<div>\n",
       "<style scoped>\n",
       "    .dataframe tbody tr th:only-of-type {\n",
       "        vertical-align: middle;\n",
       "    }\n",
       "\n",
       "    .dataframe tbody tr th {\n",
       "        vertical-align: top;\n",
       "    }\n",
       "\n",
       "    .dataframe thead th {\n",
       "        text-align: right;\n",
       "    }\n",
       "</style>\n",
       "<table border=\"1\" class=\"dataframe\">\n",
       "  <thead>\n",
       "    <tr style=\"text-align: right;\">\n",
       "      <th></th>\n",
       "      <th>show_id</th>\n",
       "      <th>type</th>\n",
       "      <th>title</th>\n",
       "      <th>director</th>\n",
       "      <th>cast</th>\n",
       "      <th>country</th>\n",
       "      <th>date_added</th>\n",
       "      <th>release_year</th>\n",
       "      <th>rating</th>\n",
       "      <th>duration</th>\n",
       "      <th>listed_in</th>\n",
       "      <th>description</th>\n",
       "    </tr>\n",
       "  </thead>\n",
       "  <tbody>\n",
       "    <tr>\n",
       "      <th>1243</th>\n",
       "      <td>s1244</td>\n",
       "      <td>TV Show</td>\n",
       "      <td>Public Enemies</td>\n",
       "      <td>NaN</td>\n",
       "      <td>Daniel Mays, Anna Friel, Lorraine Ashbourne</td>\n",
       "      <td>NaN</td>\n",
       "      <td>NaN</td>\n",
       "      <td>2012</td>\n",
       "      <td>16+</td>\n",
       "      <td>1 Season</td>\n",
       "      <td>Drama</td>\n",
       "      <td>A probation officer (Anna Friel, Marcella) mus...</td>\n",
       "    </tr>\n",
       "    <tr>\n",
       "      <th>7004</th>\n",
       "      <td>s7005</td>\n",
       "      <td>Movie</td>\n",
       "      <td>Rollerball (1975)</td>\n",
       "      <td>Norman Jewison</td>\n",
       "      <td>James Caan, John Houseman, Ralph Richardson, M...</td>\n",
       "      <td>NaN</td>\n",
       "      <td>NaN</td>\n",
       "      <td>1975</td>\n",
       "      <td>R</td>\n",
       "      <td>125 min</td>\n",
       "      <td>Action, Adventure</td>\n",
       "      <td>James Caan stars as a rollerball champ in this...</td>\n",
       "    </tr>\n",
       "    <tr>\n",
       "      <th>8264</th>\n",
       "      <td>s8265</td>\n",
       "      <td>Movie</td>\n",
       "      <td>Shuttle</td>\n",
       "      <td>Edward Anderson</td>\n",
       "      <td>Peyton List, Tony Curran, Cameron Goodman, Dav...</td>\n",
       "      <td>NaN</td>\n",
       "      <td>NaN</td>\n",
       "      <td>2009</td>\n",
       "      <td>R</td>\n",
       "      <td>107 min</td>\n",
       "      <td>Drama, Horror, Suspense</td>\n",
       "      <td>When two friends return from a girls’ weekend ...</td>\n",
       "    </tr>\n",
       "  </tbody>\n",
       "</table>\n",
       "</div>"
      ],
      "text/plain": [
       "     show_id     type              title         director  \\\n",
       "1243   s1244  TV Show     Public Enemies              NaN   \n",
       "7004   s7005    Movie  Rollerball (1975)   Norman Jewison   \n",
       "8264   s8265    Movie            Shuttle  Edward Anderson   \n",
       "\n",
       "                                                   cast country date_added  \\\n",
       "1243        Daniel Mays, Anna Friel, Lorraine Ashbourne     NaN        NaN   \n",
       "7004  James Caan, John Houseman, Ralph Richardson, M...     NaN        NaN   \n",
       "8264  Peyton List, Tony Curran, Cameron Goodman, Dav...     NaN        NaN   \n",
       "\n",
       "      release_year rating  duration                listed_in  \\\n",
       "1243          2012    16+  1 Season                    Drama   \n",
       "7004          1975      R   125 min        Action, Adventure   \n",
       "8264          2009      R   107 min  Drama, Horror, Suspense   \n",
       "\n",
       "                                            description  \n",
       "1243  A probation officer (Anna Friel, Marcella) mus...  \n",
       "7004  James Caan stars as a rollerball champ in this...  \n",
       "8264  When two friends return from a girls’ weekend ...  "
      ]
     },
     "execution_count": 3,
     "metadata": {},
     "output_type": "execute_result"
    }
   ],
   "source": [
    "amazon_data.sample(3, random_state=10)"
   ]
  },
  {
   "cell_type": "code",
   "execution_count": 4,
   "id": "77cebe56",
   "metadata": {},
   "outputs": [
    {
     "name": "stdout",
     "output_type": "stream",
     "text": [
      "<class 'pandas.core.frame.DataFrame'>\n",
      "RangeIndex: 9668 entries, 0 to 9667\n",
      "Data columns (total 12 columns):\n",
      " #   Column        Non-Null Count  Dtype \n",
      "---  ------        --------------  ----- \n",
      " 0   show_id       9668 non-null   object\n",
      " 1   type          9668 non-null   object\n",
      " 2   title         9668 non-null   object\n",
      " 3   director      7586 non-null   object\n",
      " 4   cast          8435 non-null   object\n",
      " 5   country       672 non-null    object\n",
      " 6   date_added    155 non-null    object\n",
      " 7   release_year  9668 non-null   int64 \n",
      " 8   rating        9331 non-null   object\n",
      " 9   duration      9668 non-null   object\n",
      " 10  listed_in     9668 non-null   object\n",
      " 11  description   9668 non-null   object\n",
      "dtypes: int64(1), object(11)\n",
      "memory usage: 906.5+ KB\n"
     ]
    }
   ],
   "source": [
    "# Obtener info de l DataFrame\n",
    "amazon_data.info()"
   ]
  },
  {
   "cell_type": "code",
   "execution_count": 5,
   "id": "a9e7ca1c",
   "metadata": {},
   "outputs": [
    {
     "name": "stdout",
     "output_type": "stream",
     "text": [
      "La columna con el nombre: 'director' tiene: '2082' valores NaN en sus registros y sus datos son del tipo: 'object'\n",
      "La columna con el nombre: 'cast' tiene: '1233' valores NaN en sus registros y sus datos son del tipo: 'object'\n",
      "La columna con el nombre: 'country' tiene: '8996' valores NaN en sus registros y sus datos son del tipo: 'object'\n",
      "La columna con el nombre: 'date_added' tiene: '9513' valores NaN en sus registros y sus datos son del tipo: 'object'\n",
      "La columna con el nombre: 'rating' tiene: '337' valores NaN en sus registros y sus datos son del tipo: 'object'\n"
     ]
    }
   ],
   "source": [
    "# Para entender un poco mejor la info decidi hacer esta funcion para conocer los campos a los que les faltan valores\n",
    "\n",
    "def valores_NaN(nombre_dataframe):   # Creamos una funcion para conocer las columnas y cuantos valores NaN tienen\n",
    "    \"\"\"\n",
    "    Esta funcion da la informacion solo de las columnas\n",
    "    que contienen valores faltantes\n",
    "    \n",
    "    Parametros\n",
    "    --------------\n",
    "    nombre_dataframe: class 'pandas.core.frame.DataFrame'\n",
    "            Este parametro debe de ser un objeto DataFrame\n",
    "            de la libreria Pandas\n",
    "            \n",
    "    Devoluciones\n",
    "    -------------\n",
    "    str: \n",
    "        Devuelve un string con la siguiente informacion\n",
    "        - Nombre del campo\n",
    "        - La cantidad de valores nulos\n",
    "        - Tipo de dato del campo\n",
    "    \"\"\"\n",
    "    lista_columnas = list(nombre_dataframe.columns)\n",
    "    for columna in lista_columnas:                 # - Iteramos por esa lista para checar cada columna y saber si esta contiene datos nulos o no\n",
    "        valor = nombre_dataframe[columna].hasnans     # hasnans nos devuelve True si en una columna hay algun valor NaN\n",
    "        if valor:                                    # En el caso de que exista un valor NaN imprimira el nombre de la columna que tiene el valor NaN\n",
    "            nulos = nombre_dataframe[columna].isnull().sum()\n",
    "            i = nombre_dataframe[columna].dtype # isnull revisara cada registro y mostrara con True en donde el valor sea NaN, sum se encargara de contar esos True\n",
    "            print(f\"La columna con el nombre: '{columna}' tiene: '{nulos}' valores NaN en sus registros y sus datos son del tipo: '{i}'\")  # Para una manera mas facil de entender lo imprimimos de esta manera\n",
    "\n",
    "\n",
    "\n",
    "\n",
    "valores_NaN(amazon_data)\n",
    "\n",
    "# Las columnas que no tienen valores son importantes?: "
   ]
  },
  {
   "cell_type": "markdown",
   "id": "210138bf",
   "metadata": {},
   "source": [
    "#### Data de Disney"
   ]
  },
  {
   "cell_type": "code",
   "execution_count": 6,
   "id": "20ea81a4",
   "metadata": {
    "scrolled": true
   },
   "outputs": [
    {
     "data": {
      "text/html": [
       "<div>\n",
       "<style scoped>\n",
       "    .dataframe tbody tr th:only-of-type {\n",
       "        vertical-align: middle;\n",
       "    }\n",
       "\n",
       "    .dataframe tbody tr th {\n",
       "        vertical-align: top;\n",
       "    }\n",
       "\n",
       "    .dataframe thead th {\n",
       "        text-align: right;\n",
       "    }\n",
       "</style>\n",
       "<table border=\"1\" class=\"dataframe\">\n",
       "  <thead>\n",
       "    <tr style=\"text-align: right;\">\n",
       "      <th></th>\n",
       "      <th>show_id</th>\n",
       "      <th>type</th>\n",
       "      <th>title</th>\n",
       "      <th>director</th>\n",
       "      <th>cast</th>\n",
       "      <th>country</th>\n",
       "      <th>date_added</th>\n",
       "      <th>release_year</th>\n",
       "      <th>rating</th>\n",
       "      <th>duration</th>\n",
       "      <th>listed_in</th>\n",
       "      <th>description</th>\n",
       "    </tr>\n",
       "  </thead>\n",
       "  <tbody>\n",
       "    <tr>\n",
       "      <th>573</th>\n",
       "      <td>s574</td>\n",
       "      <td>Movie</td>\n",
       "      <td>Donald's Dog Laundry</td>\n",
       "      <td>Jack King</td>\n",
       "      <td>NaN</td>\n",
       "      <td>United States</td>\n",
       "      <td>April 3, 2020</td>\n",
       "      <td>1940</td>\n",
       "      <td>TV-G</td>\n",
       "      <td>9 min</td>\n",
       "      <td>Animation, Family</td>\n",
       "      <td>Donald entices Pluto to try his mechanical dog...</td>\n",
       "    </tr>\n",
       "    <tr>\n",
       "      <th>334</th>\n",
       "      <td>s335</td>\n",
       "      <td>Movie</td>\n",
       "      <td>Into the Woods</td>\n",
       "      <td>Rob Marshall</td>\n",
       "      <td>Meryl Streep, Emily Blunt, James Corden, Anna ...</td>\n",
       "      <td>United States</td>\n",
       "      <td>December 18, 2020</td>\n",
       "      <td>2014</td>\n",
       "      <td>PG</td>\n",
       "      <td>126 min</td>\n",
       "      <td>Action-Adventure, Fantasy, Musical</td>\n",
       "      <td>A baker and his wife's desperation to have a c...</td>\n",
       "    </tr>\n",
       "    <tr>\n",
       "      <th>712</th>\n",
       "      <td>s713</td>\n",
       "      <td>Movie</td>\n",
       "      <td>20,000 Leagues Under the Sea</td>\n",
       "      <td>Richard Fleischer</td>\n",
       "      <td>Kirk Douglas, James Mason, Paul Lukas, Peter L...</td>\n",
       "      <td>United States</td>\n",
       "      <td>November 12, 2019</td>\n",
       "      <td>1954</td>\n",
       "      <td>G</td>\n",
       "      <td>127 min</td>\n",
       "      <td>Action-Adventure, Family, Science Fiction</td>\n",
       "      <td>Climb aboard the Nautilus and into an undersea...</td>\n",
       "    </tr>\n",
       "  </tbody>\n",
       "</table>\n",
       "</div>"
      ],
      "text/plain": [
       "    show_id   type                         title           director  \\\n",
       "573    s574  Movie          Donald's Dog Laundry          Jack King   \n",
       "334    s335  Movie                Into the Woods       Rob Marshall   \n",
       "712    s713  Movie  20,000 Leagues Under the Sea  Richard Fleischer   \n",
       "\n",
       "                                                  cast        country  \\\n",
       "573                                                NaN  United States   \n",
       "334  Meryl Streep, Emily Blunt, James Corden, Anna ...  United States   \n",
       "712  Kirk Douglas, James Mason, Paul Lukas, Peter L...  United States   \n",
       "\n",
       "            date_added  release_year rating duration  \\\n",
       "573      April 3, 2020          1940   TV-G    9 min   \n",
       "334  December 18, 2020          2014     PG  126 min   \n",
       "712  November 12, 2019          1954      G  127 min   \n",
       "\n",
       "                                     listed_in  \\\n",
       "573                          Animation, Family   \n",
       "334         Action-Adventure, Fantasy, Musical   \n",
       "712  Action-Adventure, Family, Science Fiction   \n",
       "\n",
       "                                           description  \n",
       "573  Donald entices Pluto to try his mechanical dog...  \n",
       "334  A baker and his wife's desperation to have a c...  \n",
       "712  Climb aboard the Nautilus and into an undersea...  "
      ]
     },
     "execution_count": 6,
     "metadata": {},
     "output_type": "execute_result"
    }
   ],
   "source": [
    "disney_data.sample(3, random_state=10)"
   ]
  },
  {
   "cell_type": "code",
   "execution_count": 7,
   "id": "a23c0fab",
   "metadata": {
    "scrolled": true
   },
   "outputs": [
    {
     "name": "stdout",
     "output_type": "stream",
     "text": [
      "<class 'pandas.core.frame.DataFrame'>\n",
      "RangeIndex: 1450 entries, 0 to 1449\n",
      "Data columns (total 12 columns):\n",
      " #   Column        Non-Null Count  Dtype \n",
      "---  ------        --------------  ----- \n",
      " 0   show_id       1450 non-null   object\n",
      " 1   type          1450 non-null   object\n",
      " 2   title         1450 non-null   object\n",
      " 3   director      977 non-null    object\n",
      " 4   cast          1260 non-null   object\n",
      " 5   country       1231 non-null   object\n",
      " 6   date_added    1447 non-null   object\n",
      " 7   release_year  1450 non-null   int64 \n",
      " 8   rating        1447 non-null   object\n",
      " 9   duration      1450 non-null   object\n",
      " 10  listed_in     1450 non-null   object\n",
      " 11  description   1450 non-null   object\n",
      "dtypes: int64(1), object(11)\n",
      "memory usage: 136.1+ KB\n"
     ]
    }
   ],
   "source": [
    "# Obtener info de l DataFrame\n",
    "disney_data.info()"
   ]
  },
  {
   "cell_type": "code",
   "execution_count": 8,
   "id": "9f3d69a9",
   "metadata": {},
   "outputs": [
    {
     "name": "stdout",
     "output_type": "stream",
     "text": [
      "La columna con el nombre: 'director' tiene: '473' valores NaN en sus registros y sus datos son del tipo: 'object'\n",
      "La columna con el nombre: 'cast' tiene: '190' valores NaN en sus registros y sus datos son del tipo: 'object'\n",
      "La columna con el nombre: 'country' tiene: '219' valores NaN en sus registros y sus datos son del tipo: 'object'\n",
      "La columna con el nombre: 'date_added' tiene: '3' valores NaN en sus registros y sus datos son del tipo: 'object'\n",
      "La columna con el nombre: 'rating' tiene: '3' valores NaN en sus registros y sus datos son del tipo: 'object'\n"
     ]
    }
   ],
   "source": [
    "valores_NaN(disney_data)"
   ]
  },
  {
   "cell_type": "markdown",
   "id": "7a90c0b8",
   "metadata": {},
   "source": [
    "#### Data de Hulu"
   ]
  },
  {
   "cell_type": "code",
   "execution_count": 9,
   "id": "9730c32a",
   "metadata": {
    "scrolled": false
   },
   "outputs": [
    {
     "data": {
      "text/html": [
       "<div>\n",
       "<style scoped>\n",
       "    .dataframe tbody tr th:only-of-type {\n",
       "        vertical-align: middle;\n",
       "    }\n",
       "\n",
       "    .dataframe tbody tr th {\n",
       "        vertical-align: top;\n",
       "    }\n",
       "\n",
       "    .dataframe thead th {\n",
       "        text-align: right;\n",
       "    }\n",
       "</style>\n",
       "<table border=\"1\" class=\"dataframe\">\n",
       "  <thead>\n",
       "    <tr style=\"text-align: right;\">\n",
       "      <th></th>\n",
       "      <th>show_id</th>\n",
       "      <th>type</th>\n",
       "      <th>title</th>\n",
       "      <th>director</th>\n",
       "      <th>cast</th>\n",
       "      <th>country</th>\n",
       "      <th>date_added</th>\n",
       "      <th>release_year</th>\n",
       "      <th>rating</th>\n",
       "      <th>duration</th>\n",
       "      <th>listed_in</th>\n",
       "      <th>description</th>\n",
       "    </tr>\n",
       "  </thead>\n",
       "  <tbody>\n",
       "    <tr>\n",
       "      <th>1174</th>\n",
       "      <td>s1175</td>\n",
       "      <td>Movie</td>\n",
       "      <td>12 Pups of Christmas</td>\n",
       "      <td>NaN</td>\n",
       "      <td>NaN</td>\n",
       "      <td>United States</td>\n",
       "      <td>November 15, 2020</td>\n",
       "      <td>2019</td>\n",
       "      <td>89 min</td>\n",
       "      <td>NaN</td>\n",
       "      <td>Romance</td>\n",
       "      <td>Struggling to keep his dog GPS locator company...</td>\n",
       "    </tr>\n",
       "    <tr>\n",
       "      <th>2176</th>\n",
       "      <td>s2177</td>\n",
       "      <td>TV Show</td>\n",
       "      <td>El Jardin De Bronce</td>\n",
       "      <td>NaN</td>\n",
       "      <td>NaN</td>\n",
       "      <td>NaN</td>\n",
       "      <td>June 23, 2019</td>\n",
       "      <td>2017</td>\n",
       "      <td>TV-MA</td>\n",
       "      <td>2 Seasons</td>\n",
       "      <td>Drama, International, Latino</td>\n",
       "      <td>When a couple's young child disappears without...</td>\n",
       "    </tr>\n",
       "    <tr>\n",
       "      <th>1543</th>\n",
       "      <td>s1544</td>\n",
       "      <td>Movie</td>\n",
       "      <td>The Whistlers</td>\n",
       "      <td>NaN</td>\n",
       "      <td>NaN</td>\n",
       "      <td>Romania, France, Germany, Sweden</td>\n",
       "      <td>July 2, 2020</td>\n",
       "      <td>2019</td>\n",
       "      <td>98 min</td>\n",
       "      <td>NaN</td>\n",
       "      <td>Comedy, Drama, Horror</td>\n",
       "      <td>A Romanian police officer, determined to free ...</td>\n",
       "    </tr>\n",
       "  </tbody>\n",
       "</table>\n",
       "</div>"
      ],
      "text/plain": [
       "     show_id     type                 title director  cast  \\\n",
       "1174   s1175    Movie  12 Pups of Christmas      NaN   NaN   \n",
       "2176   s2177  TV Show   El Jardin De Bronce      NaN   NaN   \n",
       "1543   s1544    Movie         The Whistlers      NaN   NaN   \n",
       "\n",
       "                               country         date_added  release_year  \\\n",
       "1174                     United States  November 15, 2020          2019   \n",
       "2176                               NaN      June 23, 2019          2017   \n",
       "1543  Romania, France, Germany, Sweden       July 2, 2020          2019   \n",
       "\n",
       "      rating   duration                     listed_in  \\\n",
       "1174  89 min        NaN                       Romance   \n",
       "2176   TV-MA  2 Seasons  Drama, International, Latino   \n",
       "1543  98 min        NaN         Comedy, Drama, Horror   \n",
       "\n",
       "                                            description  \n",
       "1174  Struggling to keep his dog GPS locator company...  \n",
       "2176  When a couple's young child disappears without...  \n",
       "1543  A Romanian police officer, determined to free ...  "
      ]
     },
     "execution_count": 9,
     "metadata": {},
     "output_type": "execute_result"
    }
   ],
   "source": [
    "hulu_data.sample(3, random_state=20)"
   ]
  },
  {
   "cell_type": "code",
   "execution_count": 10,
   "id": "c4d9adbd",
   "metadata": {
    "scrolled": false
   },
   "outputs": [
    {
     "name": "stdout",
     "output_type": "stream",
     "text": [
      "<class 'pandas.core.frame.DataFrame'>\n",
      "RangeIndex: 3073 entries, 0 to 3072\n",
      "Data columns (total 12 columns):\n",
      " #   Column        Non-Null Count  Dtype  \n",
      "---  ------        --------------  -----  \n",
      " 0   show_id       3073 non-null   object \n",
      " 1   type          3073 non-null   object \n",
      " 2   title         3073 non-null   object \n",
      " 3   director      3 non-null      object \n",
      " 4   cast          0 non-null      float64\n",
      " 5   country       1620 non-null   object \n",
      " 6   date_added    3045 non-null   object \n",
      " 7   release_year  3073 non-null   int64  \n",
      " 8   rating        2553 non-null   object \n",
      " 9   duration      2594 non-null   object \n",
      " 10  listed_in     3073 non-null   object \n",
      " 11  description   3069 non-null   object \n",
      "dtypes: float64(1), int64(1), object(10)\n",
      "memory usage: 288.2+ KB\n"
     ]
    }
   ],
   "source": [
    "# Obtener info de l DataFrame\n",
    "hulu_data.info()"
   ]
  },
  {
   "cell_type": "code",
   "execution_count": 11,
   "id": "c15c76af",
   "metadata": {},
   "outputs": [
    {
     "name": "stdout",
     "output_type": "stream",
     "text": [
      "La columna con el nombre: 'director' tiene: '3070' valores NaN en sus registros y sus datos son del tipo: 'object'\n",
      "La columna con el nombre: 'cast' tiene: '3073' valores NaN en sus registros y sus datos son del tipo: 'float64'\n",
      "La columna con el nombre: 'country' tiene: '1453' valores NaN en sus registros y sus datos son del tipo: 'object'\n",
      "La columna con el nombre: 'date_added' tiene: '28' valores NaN en sus registros y sus datos son del tipo: 'object'\n",
      "La columna con el nombre: 'rating' tiene: '520' valores NaN en sus registros y sus datos son del tipo: 'object'\n",
      "La columna con el nombre: 'duration' tiene: '479' valores NaN en sus registros y sus datos son del tipo: 'object'\n",
      "La columna con el nombre: 'description' tiene: '4' valores NaN en sus registros y sus datos son del tipo: 'object'\n"
     ]
    }
   ],
   "source": [
    "valores_NaN(hulu_data)"
   ]
  },
  {
   "cell_type": "markdown",
   "id": "42add64c",
   "metadata": {},
   "source": [
    "#### Data de Netflix"
   ]
  },
  {
   "cell_type": "code",
   "execution_count": 12,
   "id": "b9bbeb0c",
   "metadata": {
    "scrolled": false
   },
   "outputs": [
    {
     "data": {
      "text/html": [
       "<div>\n",
       "<style scoped>\n",
       "    .dataframe tbody tr th:only-of-type {\n",
       "        vertical-align: middle;\n",
       "    }\n",
       "\n",
       "    .dataframe tbody tr th {\n",
       "        vertical-align: top;\n",
       "    }\n",
       "\n",
       "    .dataframe thead th {\n",
       "        text-align: right;\n",
       "    }\n",
       "</style>\n",
       "<table border=\"1\" class=\"dataframe\">\n",
       "  <thead>\n",
       "    <tr style=\"text-align: right;\">\n",
       "      <th></th>\n",
       "      <th>show_id</th>\n",
       "      <th>type</th>\n",
       "      <th>title</th>\n",
       "      <th>director</th>\n",
       "      <th>cast</th>\n",
       "      <th>country</th>\n",
       "      <th>date_added</th>\n",
       "      <th>release_year</th>\n",
       "      <th>rating</th>\n",
       "      <th>duration</th>\n",
       "      <th>listed_in</th>\n",
       "      <th>description</th>\n",
       "    </tr>\n",
       "  </thead>\n",
       "  <tbody>\n",
       "    <tr>\n",
       "      <th>659</th>\n",
       "      <td>s660</td>\n",
       "      <td>TV Show</td>\n",
       "      <td>Bangkok Love Stories: Innocence</td>\n",
       "      <td>NaN</td>\n",
       "      <td>Nida Patcharaveerapong, Nicole Theriault, Natt...</td>\n",
       "      <td>Thailand</td>\n",
       "      <td>June 19, 2021</td>\n",
       "      <td>2018</td>\n",
       "      <td>TV-14</td>\n",
       "      <td>1 Season</td>\n",
       "      <td>International TV Shows, Romantic TV Shows, TV ...</td>\n",
       "      <td>From a teenage parkour enthusiast to a bawdy r...</td>\n",
       "    </tr>\n",
       "    <tr>\n",
       "      <th>6112</th>\n",
       "      <td>s6113</td>\n",
       "      <td>Movie</td>\n",
       "      <td>Alien Contact: Outer Space</td>\n",
       "      <td>J. Michael Long</td>\n",
       "      <td>J. Michael Long</td>\n",
       "      <td>United States</td>\n",
       "      <td>January 9, 2018</td>\n",
       "      <td>2017</td>\n",
       "      <td>TV-PG</td>\n",
       "      <td>63 min</td>\n",
       "      <td>Documentaries</td>\n",
       "      <td>This fact-based account delves into humankind'...</td>\n",
       "    </tr>\n",
       "    <tr>\n",
       "      <th>5950</th>\n",
       "      <td>s5951</td>\n",
       "      <td>Movie</td>\n",
       "      <td>Triumph of the Heart</td>\n",
       "      <td>Richard Michaels</td>\n",
       "      <td>Mario Van Peebles, Susan Ruttan, Lane R. Davis...</td>\n",
       "      <td>United States</td>\n",
       "      <td>October 1, 2011</td>\n",
       "      <td>1991</td>\n",
       "      <td>TV-PG</td>\n",
       "      <td>93 min</td>\n",
       "      <td>Dramas, Sports Movies</td>\n",
       "      <td>This drama tells the tale of Ricky Bell, a pro...</td>\n",
       "    </tr>\n",
       "  </tbody>\n",
       "</table>\n",
       "</div>"
      ],
      "text/plain": [
       "     show_id     type                            title          director  \\\n",
       "659     s660  TV Show  Bangkok Love Stories: Innocence               NaN   \n",
       "6112   s6113    Movie       Alien Contact: Outer Space   J. Michael Long   \n",
       "5950   s5951    Movie             Triumph of the Heart  Richard Michaels   \n",
       "\n",
       "                                                   cast        country  \\\n",
       "659   Nida Patcharaveerapong, Nicole Theriault, Natt...       Thailand   \n",
       "6112                                    J. Michael Long  United States   \n",
       "5950  Mario Van Peebles, Susan Ruttan, Lane R. Davis...  United States   \n",
       "\n",
       "           date_added  release_year rating  duration  \\\n",
       "659     June 19, 2021          2018  TV-14  1 Season   \n",
       "6112  January 9, 2018          2017  TV-PG    63 min   \n",
       "5950  October 1, 2011          1991  TV-PG    93 min   \n",
       "\n",
       "                                              listed_in  \\\n",
       "659   International TV Shows, Romantic TV Shows, TV ...   \n",
       "6112                                      Documentaries   \n",
       "5950                              Dramas, Sports Movies   \n",
       "\n",
       "                                            description  \n",
       "659   From a teenage parkour enthusiast to a bawdy r...  \n",
       "6112  This fact-based account delves into humankind'...  \n",
       "5950  This drama tells the tale of Ricky Bell, a pro...  "
      ]
     },
     "execution_count": 12,
     "metadata": {},
     "output_type": "execute_result"
    }
   ],
   "source": [
    "netflix_data.sample(3, random_state=10)"
   ]
  },
  {
   "cell_type": "code",
   "execution_count": 13,
   "id": "c4b06b13",
   "metadata": {
    "scrolled": true
   },
   "outputs": [
    {
     "name": "stdout",
     "output_type": "stream",
     "text": [
      "<class 'pandas.core.frame.DataFrame'>\n",
      "RangeIndex: 8807 entries, 0 to 8806\n",
      "Data columns (total 12 columns):\n",
      " #   Column        Non-Null Count  Dtype \n",
      "---  ------        --------------  ----- \n",
      " 0   show_id       8807 non-null   object\n",
      " 1   type          8807 non-null   object\n",
      " 2   title         8807 non-null   object\n",
      " 3   director      6173 non-null   object\n",
      " 4   cast          7982 non-null   object\n",
      " 5   country       7976 non-null   object\n",
      " 6   date_added    8797 non-null   object\n",
      " 7   release_year  8807 non-null   int64 \n",
      " 8   rating        8803 non-null   object\n",
      " 9   duration      8804 non-null   object\n",
      " 10  listed_in     8807 non-null   object\n",
      " 11  description   8807 non-null   object\n",
      "dtypes: int64(1), object(11)\n",
      "memory usage: 825.8+ KB\n"
     ]
    }
   ],
   "source": [
    "# Obtener info de l DataFrame\n",
    "netflix_data.info()"
   ]
  },
  {
   "cell_type": "code",
   "execution_count": 14,
   "id": "2a5c89f4",
   "metadata": {},
   "outputs": [
    {
     "name": "stdout",
     "output_type": "stream",
     "text": [
      "La columna con el nombre: 'director' tiene: '2634' valores NaN en sus registros y sus datos son del tipo: 'object'\n",
      "La columna con el nombre: 'cast' tiene: '825' valores NaN en sus registros y sus datos son del tipo: 'object'\n",
      "La columna con el nombre: 'country' tiene: '831' valores NaN en sus registros y sus datos son del tipo: 'object'\n",
      "La columna con el nombre: 'date_added' tiene: '10' valores NaN en sus registros y sus datos son del tipo: 'object'\n",
      "La columna con el nombre: 'rating' tiene: '4' valores NaN en sus registros y sus datos son del tipo: 'object'\n",
      "La columna con el nombre: 'duration' tiene: '3' valores NaN en sus registros y sus datos son del tipo: 'object'\n"
     ]
    }
   ],
   "source": [
    "valores_NaN(netflix_data)"
   ]
  },
  {
   "cell_type": "markdown",
   "id": "a6b3ec84",
   "metadata": {},
   "source": [
    "### Generaramos un campo id con la primera inicial de la plataforma y el show_id del DataFrame"
   ]
  },
  {
   "cell_type": "code",
   "execution_count": 15,
   "id": "3113e5f9",
   "metadata": {},
   "outputs": [],
   "source": [
    "amazon_data[\"id\"] = \"a\" + amazon_data[\"show_id\"]  # Para el Dataframe de amazon\n",
    "disney_data[\"id\"] = \"d\" + disney_data[\"show_id\"]  # Para el Dataframe de disney\n",
    "hulu_data[\"id\"] = \"h\" + hulu_data[\"show_id\"]    # Para el Dataframe de hulu\n",
    "netflix_data[\"id\"] = \"n\" + netflix_data[\"show_id\"] # Para el Dataframe de netflix"
   ]
  },
  {
   "cell_type": "code",
   "execution_count": 16,
   "id": "6d9a1ac6",
   "metadata": {},
   "outputs": [],
   "source": [
    "amazon_data[\"plataforma\"] = \"a\"\n",
    "netflix_data[\"plataforma\"] = \"n\"\n",
    "hulu_data[\"plataforma\"] = \"h\"\n",
    "disney_data[\"plataforma\"] = \"d\""
   ]
  },
  {
   "cell_type": "code",
   "execution_count": 17,
   "id": "5794c34b",
   "metadata": {},
   "outputs": [
    {
     "data": {
      "text/html": [
       "<div>\n",
       "<style scoped>\n",
       "    .dataframe tbody tr th:only-of-type {\n",
       "        vertical-align: middle;\n",
       "    }\n",
       "\n",
       "    .dataframe tbody tr th {\n",
       "        vertical-align: top;\n",
       "    }\n",
       "\n",
       "    .dataframe thead th {\n",
       "        text-align: right;\n",
       "    }\n",
       "</style>\n",
       "<table border=\"1\" class=\"dataframe\">\n",
       "  <thead>\n",
       "    <tr style=\"text-align: right;\">\n",
       "      <th></th>\n",
       "      <th>show_id</th>\n",
       "      <th>type</th>\n",
       "      <th>title</th>\n",
       "      <th>director</th>\n",
       "      <th>cast</th>\n",
       "      <th>country</th>\n",
       "      <th>date_added</th>\n",
       "      <th>release_year</th>\n",
       "      <th>rating</th>\n",
       "      <th>duration</th>\n",
       "      <th>listed_in</th>\n",
       "      <th>description</th>\n",
       "      <th>id</th>\n",
       "      <th>plataforma</th>\n",
       "    </tr>\n",
       "  </thead>\n",
       "  <tbody>\n",
       "    <tr>\n",
       "      <th>0</th>\n",
       "      <td>s1</td>\n",
       "      <td>Movie</td>\n",
       "      <td>The Grand Seduction</td>\n",
       "      <td>Don McKellar</td>\n",
       "      <td>Brendan Gleeson, Taylor Kitsch, Gordon Pinsent</td>\n",
       "      <td>Canada</td>\n",
       "      <td>March 30, 2021</td>\n",
       "      <td>2014</td>\n",
       "      <td>NaN</td>\n",
       "      <td>113 min</td>\n",
       "      <td>Comedy, Drama</td>\n",
       "      <td>A small fishing village must procure a local d...</td>\n",
       "      <td>as1</td>\n",
       "      <td>a</td>\n",
       "    </tr>\n",
       "    <tr>\n",
       "      <th>1</th>\n",
       "      <td>s2</td>\n",
       "      <td>Movie</td>\n",
       "      <td>Take Care Good Night</td>\n",
       "      <td>Girish Joshi</td>\n",
       "      <td>Mahesh Manjrekar, Abhay Mahajan, Sachin Khedekar</td>\n",
       "      <td>India</td>\n",
       "      <td>March 30, 2021</td>\n",
       "      <td>2018</td>\n",
       "      <td>13+</td>\n",
       "      <td>110 min</td>\n",
       "      <td>Drama, International</td>\n",
       "      <td>A Metro Family decides to fight a Cyber Crimin...</td>\n",
       "      <td>as2</td>\n",
       "      <td>a</td>\n",
       "    </tr>\n",
       "    <tr>\n",
       "      <th>2</th>\n",
       "      <td>s3</td>\n",
       "      <td>Movie</td>\n",
       "      <td>Secrets of Deception</td>\n",
       "      <td>Josh Webber</td>\n",
       "      <td>Tom Sizemore, Lorenzo Lamas, Robert LaSardo, R...</td>\n",
       "      <td>United States</td>\n",
       "      <td>March 30, 2021</td>\n",
       "      <td>2017</td>\n",
       "      <td>NaN</td>\n",
       "      <td>74 min</td>\n",
       "      <td>Action, Drama, Suspense</td>\n",
       "      <td>After a man discovers his wife is cheating on ...</td>\n",
       "      <td>as3</td>\n",
       "      <td>a</td>\n",
       "    </tr>\n",
       "    <tr>\n",
       "      <th>3</th>\n",
       "      <td>s4</td>\n",
       "      <td>Movie</td>\n",
       "      <td>Pink: Staying True</td>\n",
       "      <td>Sonia Anderson</td>\n",
       "      <td>Interviews with: Pink, Adele, Beyoncé, Britney...</td>\n",
       "      <td>United States</td>\n",
       "      <td>March 30, 2021</td>\n",
       "      <td>2014</td>\n",
       "      <td>NaN</td>\n",
       "      <td>69 min</td>\n",
       "      <td>Documentary</td>\n",
       "      <td>Pink breaks the mold once again, bringing her ...</td>\n",
       "      <td>as4</td>\n",
       "      <td>a</td>\n",
       "    </tr>\n",
       "    <tr>\n",
       "      <th>4</th>\n",
       "      <td>s5</td>\n",
       "      <td>Movie</td>\n",
       "      <td>Monster Maker</td>\n",
       "      <td>Giles Foster</td>\n",
       "      <td>Harry Dean Stanton, Kieran O'Brien, George Cos...</td>\n",
       "      <td>United Kingdom</td>\n",
       "      <td>March 30, 2021</td>\n",
       "      <td>1989</td>\n",
       "      <td>NaN</td>\n",
       "      <td>45 min</td>\n",
       "      <td>Drama, Fantasy</td>\n",
       "      <td>Teenage Matt Banting wants to work with a famo...</td>\n",
       "      <td>as5</td>\n",
       "      <td>a</td>\n",
       "    </tr>\n",
       "  </tbody>\n",
       "</table>\n",
       "</div>"
      ],
      "text/plain": [
       "  show_id   type                 title        director  \\\n",
       "0      s1  Movie   The Grand Seduction    Don McKellar   \n",
       "1      s2  Movie  Take Care Good Night    Girish Joshi   \n",
       "2      s3  Movie  Secrets of Deception     Josh Webber   \n",
       "3      s4  Movie    Pink: Staying True  Sonia Anderson   \n",
       "4      s5  Movie         Monster Maker    Giles Foster   \n",
       "\n",
       "                                                cast         country  \\\n",
       "0     Brendan Gleeson, Taylor Kitsch, Gordon Pinsent          Canada   \n",
       "1   Mahesh Manjrekar, Abhay Mahajan, Sachin Khedekar           India   \n",
       "2  Tom Sizemore, Lorenzo Lamas, Robert LaSardo, R...   United States   \n",
       "3  Interviews with: Pink, Adele, Beyoncé, Britney...   United States   \n",
       "4  Harry Dean Stanton, Kieran O'Brien, George Cos...  United Kingdom   \n",
       "\n",
       "       date_added  release_year rating duration                listed_in  \\\n",
       "0  March 30, 2021          2014    NaN  113 min            Comedy, Drama   \n",
       "1  March 30, 2021          2018    13+  110 min     Drama, International   \n",
       "2  March 30, 2021          2017    NaN   74 min  Action, Drama, Suspense   \n",
       "3  March 30, 2021          2014    NaN   69 min              Documentary   \n",
       "4  March 30, 2021          1989    NaN   45 min           Drama, Fantasy   \n",
       "\n",
       "                                         description   id plataforma  \n",
       "0  A small fishing village must procure a local d...  as1          a  \n",
       "1  A Metro Family decides to fight a Cyber Crimin...  as2          a  \n",
       "2  After a man discovers his wife is cheating on ...  as3          a  \n",
       "3  Pink breaks the mold once again, bringing her ...  as4          a  \n",
       "4  Teenage Matt Banting wants to work with a famo...  as5          a  "
      ]
     },
     "execution_count": 17,
     "metadata": {},
     "output_type": "execute_result"
    }
   ],
   "source": [
    "amazon_data.head()"
   ]
  },
  {
   "cell_type": "markdown",
   "id": "17b60b5c",
   "metadata": {},
   "source": [
    "#### Valores unicos en el campo \"rating\""
   ]
  },
  {
   "cell_type": "code",
   "execution_count": 18,
   "id": "66225d5d",
   "metadata": {},
   "outputs": [
    {
     "data": {
      "text/plain": [
       "array(['TV-MA', nan, 'PG-13', 'R', 'TV-14', 'PG', 'TV-PG', 'NOT RATED',\n",
       "       'G', 'TV-G', '2 Seasons', 'TV-Y', '93 min', '4 Seasons', 'TV-Y7',\n",
       "       '136 min', '91 min', '85 min', '98 min', '89 min', '94 min',\n",
       "       '86 min', '3 Seasons', '121 min', '88 min', '101 min', '1 Season',\n",
       "       '83 min', '100 min', '95 min', '92 min', '96 min', '109 min',\n",
       "       '99 min', '75 min', '87 min', '67 min', '104 min', '107 min',\n",
       "       '84 min', '103 min', '105 min', '119 min', '114 min', '82 min',\n",
       "       '90 min', '130 min', '110 min', '80 min', '6 Seasons', '97 min',\n",
       "       '111 min', '81 min', '49 min', '45 min', '41 min', '73 min',\n",
       "       '40 min', '36 min', '39 min', '34 min', '47 min', '65 min',\n",
       "       '37 min', '78 min', '102 min', '129 min', '115 min', '112 min',\n",
       "       'NR', '61 min', '106 min', '76 min', '77 min', '79 min', '157 min',\n",
       "       '28 min', '64 min', '7 min', '5 min', '6 min', '127 min',\n",
       "       '142 min', '108 min', '57 min', '118 min', '116 min', '12 Seasons',\n",
       "       '71 min'], dtype=object)"
      ]
     },
     "execution_count": 18,
     "metadata": {},
     "output_type": "execute_result"
    }
   ],
   "source": [
    "# Al quere conocer los valores unicos de la columna \"rating\" aparecen datos que deberian aparecer en la columna \"duration\"\n",
    "#Esto solo pasa en los datos de las plataformas hulu y neflix ya que son las que contienen datos nulos en la columna \"duration\"\n",
    "hulu_data[\"rating\"].unique()"
   ]
  },
  {
   "cell_type": "code",
   "execution_count": 19,
   "id": "e9910010",
   "metadata": {},
   "outputs": [
    {
     "data": {
      "text/plain": [
       "array(['PG-13', 'TV-MA', 'PG', 'TV-14', 'TV-PG', 'TV-Y', 'TV-Y7', 'R',\n",
       "       'TV-G', 'G', 'NC-17', '74 min', '84 min', '66 min', 'NR', nan,\n",
       "       'TV-Y7-FV', 'UR'], dtype=object)"
      ]
     },
     "execution_count": 19,
     "metadata": {},
     "output_type": "execute_result"
    }
   ],
   "source": [
    "netflix_data[\"rating\"].unique()"
   ]
  },
  {
   "cell_type": "markdown",
   "id": "7f77b794",
   "metadata": {},
   "source": [
    "Elabore un codigo para mover los datos que no pertenecen al campo \"rating\" a donde pertenencen que en este caso es \"duration\""
   ]
  },
  {
   "cell_type": "code",
   "execution_count": 20,
   "id": "3eb1b65d",
   "metadata": {},
   "outputs": [
    {
     "name": "stdout",
     "output_type": "stream",
     "text": [
      "3073\n"
     ]
    }
   ],
   "source": [
    "hulu_data[\"rating\"].fillna(\"sin dato\", inplace=True)  # Remplazo los valores nulos por sin dato para que no me de problemas\n",
    "\n",
    "contador = 0 \n",
    "for linea in hulu_data[\"rating\"]:  \n",
    "    #itero por cada linea del campo\n",
    "    #Si encuentro las palabras min, Seasons o Season cambio el contenido a su lugar, es decir, del campo rating \n",
    "    #al campo duration\n",
    "    \n",
    "    if \"min\" in str(linea) or \"Seasons\" in str(linea) or \"Season\" in str(linea):\n",
    "        hulu_data.iloc[contador,9] = hulu_data[\"rating\"][contador]\n",
    "        hulu_data.iloc[contador,8] = \"G\"   # Y aprovecho para poner una G que es otra transformacion que debo hacer a los NaN de\n",
    "                                           #la columna\n",
    "    contador +=1\n",
    "    \n",
    "print(contador) # Esta fue la cantidad de valores que movi"
   ]
  },
  {
   "cell_type": "code",
   "execution_count": 21,
   "id": "a8d204fb",
   "metadata": {},
   "outputs": [
    {
     "data": {
      "text/plain": [
       "array(['TV-MA', 'sin dato', 'PG-13', 'R', 'TV-14', 'PG', 'TV-PG',\n",
       "       'NOT RATED', 'G', 'TV-G', 'TV-Y', 'TV-Y7', 'NR'], dtype=object)"
      ]
     },
     "execution_count": 21,
     "metadata": {},
     "output_type": "execute_result"
    }
   ],
   "source": [
    "hulu_data[\"rating\"].unique() #Comprobamos"
   ]
  },
  {
   "cell_type": "code",
   "execution_count": 22,
   "id": "1de29ded",
   "metadata": {},
   "outputs": [
    {
     "name": "stdout",
     "output_type": "stream",
     "text": [
      "8807\n"
     ]
    }
   ],
   "source": [
    "netflix_data[\"rating\"].fillna(\"sin dato\", inplace=True)  # Remplazo los valores nulos por sindato para que no me de problemas\n",
    "\n",
    "contador = 0 \n",
    "for linea in netflix_data[\"rating\"]:\n",
    "    #itero por cada linea del campo\n",
    "    #Si encuentro las palabras min, Seasons o Season cambio el contenido a su lugar, es decir, del campo rating \n",
    "    #al campo duration\n",
    "    if \"min\" in str(linea) or \"Seasons\" in str(linea) or \"Seasons\" in str(linea):\n",
    "        netflix_data.iloc[contador,9] = netflix_data[\"rating\"][contador]\n",
    "        netflix_data.iloc[contador,8] = \"G\"  # Y aprovecho para poner una G que es otra transformacion que debo hacr a los NaN de\n",
    "                                           #la columna\n",
    "    contador +=1\n",
    "    \n",
    "print(contador)"
   ]
  },
  {
   "cell_type": "code",
   "execution_count": 23,
   "id": "405046ea",
   "metadata": {},
   "outputs": [
    {
     "data": {
      "text/plain": [
       "array(['PG-13', 'TV-MA', 'PG', 'TV-14', 'TV-PG', 'TV-Y', 'TV-Y7', 'R',\n",
       "       'TV-G', 'G', 'NC-17', 'NR', 'sin dato', 'TV-Y7-FV', 'UR'],\n",
       "      dtype=object)"
      ]
     },
     "execution_count": 23,
     "metadata": {},
     "output_type": "execute_result"
    }
   ],
   "source": [
    "netflix_data[\"rating\"].unique()  #Comprobamos"
   ]
  },
  {
   "cell_type": "markdown",
   "id": "ec27e731",
   "metadata": {},
   "source": [
    "### Unimos los DataFrame para simplificar las transformaciones"
   ]
  },
  {
   "cell_type": "code",
   "execution_count": 24,
   "id": "5de3731d",
   "metadata": {},
   "outputs": [],
   "source": [
    "# Creamos un nuevo DataFrame llamado all_data que contendra toda la info\n",
    "all_data = pd.concat([amazon_data, disney_data, hulu_data, netflix_data], axis = 0, join = \"outer\", ignore_index=True)"
   ]
  },
  {
   "cell_type": "markdown",
   "id": "89c65260",
   "metadata": {},
   "source": [
    "### Rempazamos los valores nulos en rating por una \"G\" que representara “general for all audiences”"
   ]
  },
  {
   "cell_type": "code",
   "execution_count": 25,
   "id": "f5893e95",
   "metadata": {},
   "outputs": [],
   "source": [
    "all_data['rating'].fillna(\"G\", inplace=True)\n",
    "all_data['rating'].replace(\"sin dato\", \"G\", inplace=True)"
   ]
  },
  {
   "cell_type": "markdown",
   "id": "602f4ea0",
   "metadata": {},
   "source": [
    "### No veo una utilidad en la descripcion de la pelicula para este proyecto asi que eliminare el campo"
   ]
  },
  {
   "cell_type": "code",
   "execution_count": 26,
   "id": "9ddf070e",
   "metadata": {},
   "outputs": [],
   "source": [
    "all_data.drop(\"description\", axis=1, inplace=True)\n",
    "# Me parece que con el campo listen_in es mas que suficiente"
   ]
  },
  {
   "cell_type": "markdown",
   "id": "c29d4e00",
   "metadata": {},
   "source": [
    "### Damos el formato de fecha siguiente \"AAAA-MM-DD' al campo \"date_added\" "
   ]
  },
  {
   "cell_type": "code",
   "execution_count": 27,
   "id": "e824aaec",
   "metadata": {},
   "outputs": [],
   "source": [
    "all_data[\"date_added\"] = pd.to_datetime(all_data[\"date_added\"], infer_datetime_format=True, errors = \"coerce\")"
   ]
  },
  {
   "cell_type": "code",
   "execution_count": 28,
   "id": "e4de4c6a",
   "metadata": {},
   "outputs": [
    {
     "data": {
      "text/plain": [
       "array(['G', '13+', 'ALL', '18+', 'R', 'TV-Y', 'TV-Y7', 'NR', '16+',\n",
       "       'TV-PG', '7+', 'TV-14', 'TV-NR', 'TV-G', 'PG-13', 'TV-MA', 'PG',\n",
       "       'NC-17', 'UNRATED', '16', 'AGES_16_', 'AGES_18_', 'ALL_AGES',\n",
       "       'NOT_RATE', 'TV-Y7-FV', 'NOT RATED', 'UR'], dtype=object)"
      ]
     },
     "execution_count": 28,
     "metadata": {},
     "output_type": "execute_result"
    }
   ],
   "source": [
    "#Comprobamos los valores unicos para el campo \"rating\"\n",
    "all_data[\"rating\"].unique()"
   ]
  },
  {
   "cell_type": "markdown",
   "id": "b875d83d",
   "metadata": {},
   "source": [
    "### Pasamos el texto de los campos donde hay texto todo a minusculas"
   ]
  },
  {
   "cell_type": "code",
   "execution_count": 29,
   "id": "bb87af25",
   "metadata": {},
   "outputs": [],
   "source": [
    "# Primero relleno los valores nulos de las campos de texto con un \"sin dato\"\n",
    "# Para que no me de problema a la hora de convertirlo a minusculas\n",
    "all_data[\"director\"].fillna(\"sin Dato\", inplace=True)\n",
    "all_data[\"cast\"].fillna(\"sin Dato\", inplace=True)\n",
    "all_data[\"country\"].fillna(\"sin Dato\", inplace=True)"
   ]
  },
  {
   "cell_type": "code",
   "execution_count": 30,
   "id": "6ce4ccf0",
   "metadata": {},
   "outputs": [],
   "source": [
    "# Ahora que nungun campo esta vacion puedo hacer la transformacion a minusculas\n",
    "all_data[\"type\"] = all_data[\"type\"].apply(lambda x: x.lower())\n",
    "all_data[\"title\"] = all_data[\"title\"].apply(lambda x: x.lower())\n",
    "all_data[\"director\"] = all_data[\"director\"].apply(lambda x: x.lower())\n",
    "all_data[\"cast\"] = all_data[\"cast\"].apply(lambda x: x.lower())\n",
    "all_data[\"country\"] = all_data[\"country\"].apply(lambda x: x.lower())\n",
    "all_data[\"listed_in\"] = all_data[\"listed_in\"].apply(lambda x: x.lower())\n",
    "all_data[\"rating\"] = all_data[\"rating\"].apply(lambda x: x.lower())"
   ]
  },
  {
   "cell_type": "code",
   "execution_count": 31,
   "id": "efbcf14a",
   "metadata": {},
   "outputs": [],
   "source": [
    "all_data.drop_duplicates(inplace=True)"
   ]
  },
  {
   "cell_type": "code",
   "execution_count": 32,
   "id": "967161e8",
   "metadata": {
    "scrolled": true
   },
   "outputs": [
    {
     "data": {
      "text/html": [
       "<div>\n",
       "<style scoped>\n",
       "    .dataframe tbody tr th:only-of-type {\n",
       "        vertical-align: middle;\n",
       "    }\n",
       "\n",
       "    .dataframe tbody tr th {\n",
       "        vertical-align: top;\n",
       "    }\n",
       "\n",
       "    .dataframe thead th {\n",
       "        text-align: right;\n",
       "    }\n",
       "</style>\n",
       "<table border=\"1\" class=\"dataframe\">\n",
       "  <thead>\n",
       "    <tr style=\"text-align: right;\">\n",
       "      <th></th>\n",
       "      <th>show_id</th>\n",
       "      <th>type</th>\n",
       "      <th>title</th>\n",
       "      <th>director</th>\n",
       "      <th>cast</th>\n",
       "      <th>country</th>\n",
       "      <th>date_added</th>\n",
       "      <th>release_year</th>\n",
       "      <th>rating</th>\n",
       "      <th>duration</th>\n",
       "      <th>listed_in</th>\n",
       "      <th>id</th>\n",
       "      <th>plataforma</th>\n",
       "    </tr>\n",
       "  </thead>\n",
       "  <tbody>\n",
       "    <tr>\n",
       "      <th>10916</th>\n",
       "      <td>s1249</td>\n",
       "      <td>movie</td>\n",
       "      <td>the aristocats</td>\n",
       "      <td>wolfgang reitherman</td>\n",
       "      <td>phil harris, eva gabor, sterling holloway, sca...</td>\n",
       "      <td>united states</td>\n",
       "      <td>2019-11-12</td>\n",
       "      <td>1970</td>\n",
       "      <td>g</td>\n",
       "      <td>81 min</td>\n",
       "      <td>action-adventure, animation, comedy</td>\n",
       "      <td>ds1249</td>\n",
       "      <td>d</td>\n",
       "    </tr>\n",
       "    <tr>\n",
       "      <th>3727</th>\n",
       "      <td>s3728</td>\n",
       "      <td>movie</td>\n",
       "      <td>the pride of the yankees</td>\n",
       "      <td>sam wood</td>\n",
       "      <td>gary cooper, teresa wright, babe ruth</td>\n",
       "      <td>sin dato</td>\n",
       "      <td>NaT</td>\n",
       "      <td>1943</td>\n",
       "      <td>13+</td>\n",
       "      <td>129 min</td>\n",
       "      <td>drama, romance</td>\n",
       "      <td>as3728</td>\n",
       "      <td>a</td>\n",
       "    </tr>\n",
       "    <tr>\n",
       "      <th>10583</th>\n",
       "      <td>s916</td>\n",
       "      <td>movie</td>\n",
       "      <td>go figure</td>\n",
       "      <td>francine mcdougall</td>\n",
       "      <td>jordan hinson, whitney sloan, cristine rose</td>\n",
       "      <td>united states</td>\n",
       "      <td>2019-11-12</td>\n",
       "      <td>2005</td>\n",
       "      <td>tv-g</td>\n",
       "      <td>89 min</td>\n",
       "      <td>coming of age, sports</td>\n",
       "      <td>ds916</td>\n",
       "      <td>d</td>\n",
       "    </tr>\n",
       "  </tbody>\n",
       "</table>\n",
       "</div>"
      ],
      "text/plain": [
       "      show_id   type                     title             director  \\\n",
       "10916   s1249  movie            the aristocats  wolfgang reitherman   \n",
       "3727    s3728  movie  the pride of the yankees             sam wood   \n",
       "10583    s916  movie                 go figure   francine mcdougall   \n",
       "\n",
       "                                                    cast        country  \\\n",
       "10916  phil harris, eva gabor, sterling holloway, sca...  united states   \n",
       "3727               gary cooper, teresa wright, babe ruth       sin dato   \n",
       "10583        jordan hinson, whitney sloan, cristine rose  united states   \n",
       "\n",
       "      date_added  release_year rating duration  \\\n",
       "10916 2019-11-12          1970      g   81 min   \n",
       "3727         NaT          1943    13+  129 min   \n",
       "10583 2019-11-12          2005   tv-g   89 min   \n",
       "\n",
       "                                 listed_in      id plataforma  \n",
       "10916  action-adventure, animation, comedy  ds1249          d  \n",
       "3727                        drama, romance  as3728          a  \n",
       "10583                coming of age, sports   ds916          d  "
      ]
     },
     "execution_count": 32,
     "metadata": {},
     "output_type": "execute_result"
    }
   ],
   "source": [
    "# Vistazo de como voy con los dato\n",
    "all_data.sample(3, random_state=10)"
   ]
  },
  {
   "cell_type": "code",
   "execution_count": 33,
   "id": "b3df2c83",
   "metadata": {},
   "outputs": [
    {
     "data": {
      "text/plain": [
       "Timestamp('2006-07-14 00:00:00')"
      ]
     },
     "execution_count": 33,
     "metadata": {},
     "output_type": "execute_result"
    }
   ],
   "source": [
    "all_data[\"date_added\"].min()"
   ]
  },
  {
   "cell_type": "markdown",
   "id": "4bc15fe0",
   "metadata": {},
   "source": [
    "### Separar el campo \"duration\" en dos\n",
    "- duration_int: Sera de tipo integer indicando la magnitud \n",
    "- duration_type: Sera un string indicando la unidad de medición de duración: min (minutos) o season (temporadas)"
   ]
  },
  {
   "cell_type": "code",
   "execution_count": 34,
   "id": "7a5f7f5f",
   "metadata": {},
   "outputs": [],
   "source": [
    "all_data[[\"duration_int\", \"duration_type\"]] = all_data.duration.str.split(pat=' ',expand=True )"
   ]
  },
  {
   "cell_type": "code",
   "execution_count": 35,
   "id": "e45d7bc4",
   "metadata": {},
   "outputs": [],
   "source": [
    "# Convertimos los valores nulos de duration_int en 0 para que no nos de problema a la hora de cambiar el tipo de dato\n",
    "all_data[\"duration_int\"].fillna(\"0\", inplace=True)\n",
    "# Cambiamos el tipo de dato\n",
    "all_data[\"duration_int\"] = all_data[\"duration_int\"].astype(\"int\")"
   ]
  },
  {
   "cell_type": "code",
   "execution_count": 36,
   "id": "503ad528",
   "metadata": {},
   "outputs": [],
   "source": [
    "#Hacemos algo similar con el campo duration_type \n",
    "all_data[\"duration_type\"].fillna(\"sin Dato\", inplace=True)\n",
    "all_data[\"duration_type\"] = all_data[\"duration_type\"].apply(lambda x: x.lower())"
   ]
  },
  {
   "cell_type": "code",
   "execution_count": 37,
   "id": "fc3762ca",
   "metadata": {},
   "outputs": [
    {
     "data": {
      "text/html": [
       "<div>\n",
       "<style scoped>\n",
       "    .dataframe tbody tr th:only-of-type {\n",
       "        vertical-align: middle;\n",
       "    }\n",
       "\n",
       "    .dataframe tbody tr th {\n",
       "        vertical-align: top;\n",
       "    }\n",
       "\n",
       "    .dataframe thead th {\n",
       "        text-align: right;\n",
       "    }\n",
       "</style>\n",
       "<table border=\"1\" class=\"dataframe\">\n",
       "  <thead>\n",
       "    <tr style=\"text-align: right;\">\n",
       "      <th></th>\n",
       "      <th>show_id</th>\n",
       "      <th>type</th>\n",
       "      <th>title</th>\n",
       "      <th>director</th>\n",
       "      <th>cast</th>\n",
       "      <th>country</th>\n",
       "      <th>date_added</th>\n",
       "      <th>release_year</th>\n",
       "      <th>rating</th>\n",
       "      <th>duration</th>\n",
       "      <th>listed_in</th>\n",
       "      <th>id</th>\n",
       "      <th>plataforma</th>\n",
       "      <th>duration_int</th>\n",
       "      <th>duration_type</th>\n",
       "    </tr>\n",
       "  </thead>\n",
       "  <tbody>\n",
       "    <tr>\n",
       "      <th>22735</th>\n",
       "      <td>s8545</td>\n",
       "      <td>tv show</td>\n",
       "      <td>the underwear</td>\n",
       "      <td>sin dato</td>\n",
       "      <td>thanabordee jaiyen, emika grant emma, tantimed...</td>\n",
       "      <td>sin dato</td>\n",
       "      <td>2018-06-19</td>\n",
       "      <td>2017</td>\n",
       "      <td>tv-ma</td>\n",
       "      <td>1 Season</td>\n",
       "      <td>international tv shows, tv dramas, teen tv shows</td>\n",
       "      <td>ns8545</td>\n",
       "      <td>n</td>\n",
       "      <td>1</td>\n",
       "      <td>season</td>\n",
       "    </tr>\n",
       "    <tr>\n",
       "      <th>14872</th>\n",
       "      <td>s682</td>\n",
       "      <td>tv show</td>\n",
       "      <td>they've gotta have us</td>\n",
       "      <td>simon frederick</td>\n",
       "      <td>debbie allen, harry belafonte, john boyega, di...</td>\n",
       "      <td>united kingdom</td>\n",
       "      <td>2021-06-19</td>\n",
       "      <td>2018</td>\n",
       "      <td>tv-ma</td>\n",
       "      <td>1 Season</td>\n",
       "      <td>british tv shows, docuseries</td>\n",
       "      <td>ns682</td>\n",
       "      <td>n</td>\n",
       "      <td>1</td>\n",
       "      <td>season</td>\n",
       "    </tr>\n",
       "    <tr>\n",
       "      <th>20833</th>\n",
       "      <td>s6643</td>\n",
       "      <td>movie</td>\n",
       "      <td>dragonheart 3: the sorcerer</td>\n",
       "      <td>colin teague</td>\n",
       "      <td>julian morris, tamzin merchant, ben kingsley, ...</td>\n",
       "      <td>united states</td>\n",
       "      <td>2020-01-01</td>\n",
       "      <td>2015</td>\n",
       "      <td>pg-13</td>\n",
       "      <td>97 min</td>\n",
       "      <td>action &amp; adventure, sci-fi &amp; fantasy</td>\n",
       "      <td>ns6643</td>\n",
       "      <td>n</td>\n",
       "      <td>97</td>\n",
       "      <td>min</td>\n",
       "    </tr>\n",
       "    <tr>\n",
       "      <th>8217</th>\n",
       "      <td>s8218</td>\n",
       "      <td>movie</td>\n",
       "      <td>attack of the 50 foot cheerleader</td>\n",
       "      <td>kevin o'neill</td>\n",
       "      <td>sean young, ryan merriman, treat williams, joh...</td>\n",
       "      <td>sin dato</td>\n",
       "      <td>NaT</td>\n",
       "      <td>2012</td>\n",
       "      <td>r</td>\n",
       "      <td>83 min</td>\n",
       "      <td>comedy</td>\n",
       "      <td>as8218</td>\n",
       "      <td>a</td>\n",
       "      <td>83</td>\n",
       "      <td>min</td>\n",
       "    </tr>\n",
       "    <tr>\n",
       "      <th>16040</th>\n",
       "      <td>s1850</td>\n",
       "      <td>movie</td>\n",
       "      <td>kartini: princess of java</td>\n",
       "      <td>hanung bramantyo</td>\n",
       "      <td>dian sastrowardoyo, ayushita, acha septriasa, ...</td>\n",
       "      <td>indonesia, netherlands</td>\n",
       "      <td>2020-10-15</td>\n",
       "      <td>2017</td>\n",
       "      <td>tv-pg</td>\n",
       "      <td>118 min</td>\n",
       "      <td>dramas, international movies</td>\n",
       "      <td>ns1850</td>\n",
       "      <td>n</td>\n",
       "      <td>118</td>\n",
       "      <td>min</td>\n",
       "    </tr>\n",
       "  </tbody>\n",
       "</table>\n",
       "</div>"
      ],
      "text/plain": [
       "      show_id     type                              title          director  \\\n",
       "22735   s8545  tv show                      the underwear          sin dato   \n",
       "14872    s682  tv show              they've gotta have us   simon frederick   \n",
       "20833   s6643    movie        dragonheart 3: the sorcerer      colin teague   \n",
       "8217    s8218    movie  attack of the 50 foot cheerleader     kevin o'neill   \n",
       "16040   s1850    movie          kartini: princess of java  hanung bramantyo   \n",
       "\n",
       "                                                    cast  \\\n",
       "22735  thanabordee jaiyen, emika grant emma, tantimed...   \n",
       "14872  debbie allen, harry belafonte, john boyega, di...   \n",
       "20833  julian morris, tamzin merchant, ben kingsley, ...   \n",
       "8217   sean young, ryan merriman, treat williams, joh...   \n",
       "16040  dian sastrowardoyo, ayushita, acha septriasa, ...   \n",
       "\n",
       "                      country date_added  release_year rating  duration  \\\n",
       "22735                sin dato 2018-06-19          2017  tv-ma  1 Season   \n",
       "14872          united kingdom 2021-06-19          2018  tv-ma  1 Season   \n",
       "20833           united states 2020-01-01          2015  pg-13    97 min   \n",
       "8217                 sin dato        NaT          2012      r    83 min   \n",
       "16040  indonesia, netherlands 2020-10-15          2017  tv-pg   118 min   \n",
       "\n",
       "                                              listed_in      id plataforma  \\\n",
       "22735  international tv shows, tv dramas, teen tv shows  ns8545          n   \n",
       "14872                      british tv shows, docuseries   ns682          n   \n",
       "20833              action & adventure, sci-fi & fantasy  ns6643          n   \n",
       "8217                                             comedy  as8218          a   \n",
       "16040                      dramas, international movies  ns1850          n   \n",
       "\n",
       "       duration_int duration_type  \n",
       "22735             1        season  \n",
       "14872             1        season  \n",
       "20833            97           min  \n",
       "8217             83           min  \n",
       "16040           118           min  "
      ]
     },
     "execution_count": 37,
     "metadata": {},
     "output_type": "execute_result"
    }
   ],
   "source": [
    "all_data.sample(5, random_state=20)"
   ]
  },
  {
   "cell_type": "code",
   "execution_count": 38,
   "id": "8fe04ef2",
   "metadata": {},
   "outputs": [],
   "source": [
    "# Eliminamos el campo duration y el campo show_id\n",
    "all_data[\"duration_type\"].replace(\"seasons\", \"season\", inplace=True)  # remplazamos los datos donde la palabra es seasons por season\n",
    "all_data.drop(\"duration\", axis=1, inplace=True)\n",
    "all_data.drop(\"show_id\", axis=1, inplace=True)"
   ]
  },
  {
   "cell_type": "code",
   "execution_count": 39,
   "id": "f89dae13",
   "metadata": {},
   "outputs": [
    {
     "data": {
      "text/html": [
       "<div>\n",
       "<style scoped>\n",
       "    .dataframe tbody tr th:only-of-type {\n",
       "        vertical-align: middle;\n",
       "    }\n",
       "\n",
       "    .dataframe tbody tr th {\n",
       "        vertical-align: top;\n",
       "    }\n",
       "\n",
       "    .dataframe thead th {\n",
       "        text-align: right;\n",
       "    }\n",
       "</style>\n",
       "<table border=\"1\" class=\"dataframe\">\n",
       "  <thead>\n",
       "    <tr style=\"text-align: right;\">\n",
       "      <th></th>\n",
       "      <th>type</th>\n",
       "      <th>title</th>\n",
       "      <th>director</th>\n",
       "      <th>cast</th>\n",
       "      <th>country</th>\n",
       "      <th>date_added</th>\n",
       "      <th>release_year</th>\n",
       "      <th>rating</th>\n",
       "      <th>listed_in</th>\n",
       "      <th>id</th>\n",
       "      <th>plataforma</th>\n",
       "      <th>duration_int</th>\n",
       "      <th>duration_type</th>\n",
       "    </tr>\n",
       "  </thead>\n",
       "  <tbody>\n",
       "    <tr>\n",
       "      <th>22993</th>\n",
       "      <td>movie</td>\n",
       "      <td>zodiac</td>\n",
       "      <td>david fincher</td>\n",
       "      <td>mark ruffalo, jake gyllenhaal, robert downey j...</td>\n",
       "      <td>united states</td>\n",
       "      <td>2019-11-20</td>\n",
       "      <td>2007</td>\n",
       "      <td>r</td>\n",
       "      <td>cult movies, dramas, thrillers</td>\n",
       "      <td>ns8803</td>\n",
       "      <td>n</td>\n",
       "      <td>158</td>\n",
       "      <td>min</td>\n",
       "    </tr>\n",
       "    <tr>\n",
       "      <th>22994</th>\n",
       "      <td>tv show</td>\n",
       "      <td>zombie dumb</td>\n",
       "      <td>sin dato</td>\n",
       "      <td>sin dato</td>\n",
       "      <td>sin dato</td>\n",
       "      <td>2019-07-01</td>\n",
       "      <td>2018</td>\n",
       "      <td>tv-y7</td>\n",
       "      <td>kids' tv, korean tv shows, tv comedies</td>\n",
       "      <td>ns8804</td>\n",
       "      <td>n</td>\n",
       "      <td>2</td>\n",
       "      <td>season</td>\n",
       "    </tr>\n",
       "    <tr>\n",
       "      <th>22995</th>\n",
       "      <td>movie</td>\n",
       "      <td>zombieland</td>\n",
       "      <td>ruben fleischer</td>\n",
       "      <td>jesse eisenberg, woody harrelson, emma stone, ...</td>\n",
       "      <td>united states</td>\n",
       "      <td>2019-11-01</td>\n",
       "      <td>2009</td>\n",
       "      <td>r</td>\n",
       "      <td>comedies, horror movies</td>\n",
       "      <td>ns8805</td>\n",
       "      <td>n</td>\n",
       "      <td>88</td>\n",
       "      <td>min</td>\n",
       "    </tr>\n",
       "    <tr>\n",
       "      <th>22996</th>\n",
       "      <td>movie</td>\n",
       "      <td>zoom</td>\n",
       "      <td>peter hewitt</td>\n",
       "      <td>tim allen, courteney cox, chevy chase, kate ma...</td>\n",
       "      <td>united states</td>\n",
       "      <td>2020-01-11</td>\n",
       "      <td>2006</td>\n",
       "      <td>pg</td>\n",
       "      <td>children &amp; family movies, comedies</td>\n",
       "      <td>ns8806</td>\n",
       "      <td>n</td>\n",
       "      <td>88</td>\n",
       "      <td>min</td>\n",
       "    </tr>\n",
       "    <tr>\n",
       "      <th>22997</th>\n",
       "      <td>movie</td>\n",
       "      <td>zubaan</td>\n",
       "      <td>mozez singh</td>\n",
       "      <td>vicky kaushal, sarah-jane dias, raaghav chanan...</td>\n",
       "      <td>india</td>\n",
       "      <td>2019-03-02</td>\n",
       "      <td>2015</td>\n",
       "      <td>tv-14</td>\n",
       "      <td>dramas, international movies, music &amp; musicals</td>\n",
       "      <td>ns8807</td>\n",
       "      <td>n</td>\n",
       "      <td>111</td>\n",
       "      <td>min</td>\n",
       "    </tr>\n",
       "  </tbody>\n",
       "</table>\n",
       "</div>"
      ],
      "text/plain": [
       "          type        title         director  \\\n",
       "22993    movie       zodiac    david fincher   \n",
       "22994  tv show  zombie dumb         sin dato   \n",
       "22995    movie   zombieland  ruben fleischer   \n",
       "22996    movie         zoom     peter hewitt   \n",
       "22997    movie       zubaan      mozez singh   \n",
       "\n",
       "                                                    cast        country  \\\n",
       "22993  mark ruffalo, jake gyllenhaal, robert downey j...  united states   \n",
       "22994                                           sin dato       sin dato   \n",
       "22995  jesse eisenberg, woody harrelson, emma stone, ...  united states   \n",
       "22996  tim allen, courteney cox, chevy chase, kate ma...  united states   \n",
       "22997  vicky kaushal, sarah-jane dias, raaghav chanan...          india   \n",
       "\n",
       "      date_added  release_year rating  \\\n",
       "22993 2019-11-20          2007      r   \n",
       "22994 2019-07-01          2018  tv-y7   \n",
       "22995 2019-11-01          2009      r   \n",
       "22996 2020-01-11          2006     pg   \n",
       "22997 2019-03-02          2015  tv-14   \n",
       "\n",
       "                                            listed_in      id plataforma  \\\n",
       "22993                  cult movies, dramas, thrillers  ns8803          n   \n",
       "22994          kids' tv, korean tv shows, tv comedies  ns8804          n   \n",
       "22995                         comedies, horror movies  ns8805          n   \n",
       "22996              children & family movies, comedies  ns8806          n   \n",
       "22997  dramas, international movies, music & musicals  ns8807          n   \n",
       "\n",
       "       duration_int duration_type  \n",
       "22993           158           min  \n",
       "22994             2        season  \n",
       "22995            88           min  \n",
       "22996            88           min  \n",
       "22997           111           min  "
      ]
     },
     "execution_count": 39,
     "metadata": {},
     "output_type": "execute_result"
    }
   ],
   "source": [
    "all_data.tail()"
   ]
  },
  {
   "cell_type": "markdown",
   "id": "10eedb45",
   "metadata": {},
   "source": [
    "### Convertimos la transfromacion en un archivo csv "
   ]
  },
  {
   "cell_type": "code",
   "execution_count": 40,
   "id": "0ad20066",
   "metadata": {},
   "outputs": [],
   "source": [
    "all_data.to_csv(\"Data_util/Plataformas.csv\", index=False)"
   ]
  }
 ],
 "metadata": {
  "kernelspec": {
   "display_name": "Python 3 (ipykernel)",
   "language": "python",
   "name": "python3"
  },
  "language_info": {
   "codemirror_mode": {
    "name": "ipython",
    "version": 3
   },
   "file_extension": ".py",
   "mimetype": "text/x-python",
   "name": "python",
   "nbconvert_exporter": "python",
   "pygments_lexer": "ipython3",
   "version": "3.9.13"
  },
  "vscode": {
   "interpreter": {
    "hash": "7579aee364a2e290dfc6a620616239004625e0c1356cc42c7bb47894a11803af"
   }
  }
 },
 "nbformat": 4,
 "nbformat_minor": 5
}
