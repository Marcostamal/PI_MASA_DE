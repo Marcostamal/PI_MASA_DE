{
 "cells": [
  {
   "cell_type": "markdown",
   "id": "fbe92c18",
   "metadata": {},
   "source": [
    "# Analizis Exploratorio de Datos"
   ]
  },
  {
   "cell_type": "markdown",
   "id": "05e84c0b",
   "metadata": {},
   "source": [
    "## Importar librerias"
   ]
  },
  {
   "cell_type": "code",
   "execution_count": 2,
   "id": "6cae9201",
   "metadata": {},
   "outputs": [],
   "source": [
    "import pandas as pd\n",
    "import matplotlib.pyplot as plt"
   ]
  },
  {
   "cell_type": "markdown",
   "id": "9895eeb5",
   "metadata": {},
   "source": [
    "## Carga de datos"
   ]
  },
  {
   "cell_type": "code",
   "execution_count": 3,
   "id": "f4c246b1",
   "metadata": {
    "scrolled": true
   },
   "outputs": [
    {
     "name": "stderr",
     "output_type": "stream",
     "text": [
      "C:\\Users\\Alejandro\\AppData\\Local\\Temp\\ipykernel_18076\\3635710233.py:1: DtypeWarning: Columns (6) have mixed types. Specify dtype option on import or set low_memory=False.\n",
      "  df = pd.read_csv(\"C:/Users/Alejandro/Desktop/Datos_unidos_light.csv\")\n"
     ]
    }
   ],
   "source": [
    "df = pd.read_csv(\"C:/Users/Alejandro/Desktop/Datos_unidos_light.csv\")"
   ]
  },
  {
   "cell_type": "markdown",
   "id": "e697f08c",
   "metadata": {},
   "source": [
    "### Valores duplicados"
   ]
  },
  {
   "cell_type": "code",
   "execution_count": 4,
   "id": "3006ca87",
   "metadata": {},
   "outputs": [],
   "source": [
    "df.drop_duplicates(inplace=True)"
   ]
  },
  {
   "cell_type": "code",
   "execution_count": 5,
   "id": "a978528d",
   "metadata": {},
   "outputs": [
    {
     "data": {
      "text/html": [
       "<div>\n",
       "<style scoped>\n",
       "    .dataframe tbody tr th:only-of-type {\n",
       "        vertical-align: middle;\n",
       "    }\n",
       "\n",
       "    .dataframe tbody tr th {\n",
       "        vertical-align: top;\n",
       "    }\n",
       "\n",
       "    .dataframe thead th {\n",
       "        text-align: right;\n",
       "    }\n",
       "</style>\n",
       "<table border=\"1\" class=\"dataframe\">\n",
       "  <thead>\n",
       "    <tr style=\"text-align: right;\">\n",
       "      <th></th>\n",
       "      <th>show_id</th>\n",
       "      <th>type</th>\n",
       "      <th>title</th>\n",
       "      <th>director</th>\n",
       "      <th>cast</th>\n",
       "      <th>country</th>\n",
       "      <th>date_added</th>\n",
       "      <th>release_year</th>\n",
       "      <th>rating</th>\n",
       "      <th>listed_in</th>\n",
       "      <th>id</th>\n",
       "      <th>duration_int</th>\n",
       "      <th>duration_type</th>\n",
       "      <th>userId</th>\n",
       "      <th>score</th>\n",
       "      <th>timestamp</th>\n",
       "    </tr>\n",
       "  </thead>\n",
       "  <tbody>\n",
       "    <tr>\n",
       "      <th>0</th>\n",
       "      <td>s1</td>\n",
       "      <td>movie</td>\n",
       "      <td>the grand seduction</td>\n",
       "      <td>don mckellar</td>\n",
       "      <td>brendan gleeson, taylor kitsch, gordon pinsent</td>\n",
       "      <td>canada</td>\n",
       "      <td>2021-03-30</td>\n",
       "      <td>2014</td>\n",
       "      <td>g</td>\n",
       "      <td>comedy, drama</td>\n",
       "      <td>as1</td>\n",
       "      <td>113</td>\n",
       "      <td>min</td>\n",
       "      <td>543</td>\n",
       "      <td>5.0</td>\n",
       "      <td>2003-07-30</td>\n",
       "    </tr>\n",
       "    <tr>\n",
       "      <th>1</th>\n",
       "      <td>s1</td>\n",
       "      <td>movie</td>\n",
       "      <td>the grand seduction</td>\n",
       "      <td>don mckellar</td>\n",
       "      <td>brendan gleeson, taylor kitsch, gordon pinsent</td>\n",
       "      <td>canada</td>\n",
       "      <td>2021-03-30</td>\n",
       "      <td>2014</td>\n",
       "      <td>g</td>\n",
       "      <td>comedy, drama</td>\n",
       "      <td>as1</td>\n",
       "      <td>113</td>\n",
       "      <td>min</td>\n",
       "      <td>595</td>\n",
       "      <td>3.0</td>\n",
       "      <td>1996-08-13</td>\n",
       "    </tr>\n",
       "    <tr>\n",
       "      <th>2</th>\n",
       "      <td>s1</td>\n",
       "      <td>movie</td>\n",
       "      <td>the grand seduction</td>\n",
       "      <td>don mckellar</td>\n",
       "      <td>brendan gleeson, taylor kitsch, gordon pinsent</td>\n",
       "      <td>canada</td>\n",
       "      <td>2021-03-30</td>\n",
       "      <td>2014</td>\n",
       "      <td>g</td>\n",
       "      <td>comedy, drama</td>\n",
       "      <td>as1</td>\n",
       "      <td>113</td>\n",
       "      <td>min</td>\n",
       "      <td>611</td>\n",
       "      <td>3.0</td>\n",
       "      <td>2001-01-03</td>\n",
       "    </tr>\n",
       "    <tr>\n",
       "      <th>3</th>\n",
       "      <td>s1</td>\n",
       "      <td>movie</td>\n",
       "      <td>the grand seduction</td>\n",
       "      <td>don mckellar</td>\n",
       "      <td>brendan gleeson, taylor kitsch, gordon pinsent</td>\n",
       "      <td>canada</td>\n",
       "      <td>2021-03-30</td>\n",
       "      <td>2014</td>\n",
       "      <td>g</td>\n",
       "      <td>comedy, drama</td>\n",
       "      <td>as1</td>\n",
       "      <td>113</td>\n",
       "      <td>min</td>\n",
       "      <td>2523</td>\n",
       "      <td>3.5</td>\n",
       "      <td>2012-06-25</td>\n",
       "    </tr>\n",
       "    <tr>\n",
       "      <th>4</th>\n",
       "      <td>s1</td>\n",
       "      <td>movie</td>\n",
       "      <td>the grand seduction</td>\n",
       "      <td>don mckellar</td>\n",
       "      <td>brendan gleeson, taylor kitsch, gordon pinsent</td>\n",
       "      <td>canada</td>\n",
       "      <td>2021-03-30</td>\n",
       "      <td>2014</td>\n",
       "      <td>g</td>\n",
       "      <td>comedy, drama</td>\n",
       "      <td>as1</td>\n",
       "      <td>113</td>\n",
       "      <td>min</td>\n",
       "      <td>3082</td>\n",
       "      <td>4.0</td>\n",
       "      <td>2000-03-30</td>\n",
       "    </tr>\n",
       "  </tbody>\n",
       "</table>\n",
       "</div>"
      ],
      "text/plain": [
       "  show_id   type                title      director  \\\n",
       "0      s1  movie  the grand seduction  don mckellar   \n",
       "1      s1  movie  the grand seduction  don mckellar   \n",
       "2      s1  movie  the grand seduction  don mckellar   \n",
       "3      s1  movie  the grand seduction  don mckellar   \n",
       "4      s1  movie  the grand seduction  don mckellar   \n",
       "\n",
       "                                             cast country  date_added  \\\n",
       "0  brendan gleeson, taylor kitsch, gordon pinsent  canada  2021-03-30   \n",
       "1  brendan gleeson, taylor kitsch, gordon pinsent  canada  2021-03-30   \n",
       "2  brendan gleeson, taylor kitsch, gordon pinsent  canada  2021-03-30   \n",
       "3  brendan gleeson, taylor kitsch, gordon pinsent  canada  2021-03-30   \n",
       "4  brendan gleeson, taylor kitsch, gordon pinsent  canada  2021-03-30   \n",
       "\n",
       "   release_year rating      listed_in   id  duration_int duration_type  \\\n",
       "0          2014      g  comedy, drama  as1           113           min   \n",
       "1          2014      g  comedy, drama  as1           113           min   \n",
       "2          2014      g  comedy, drama  as1           113           min   \n",
       "3          2014      g  comedy, drama  as1           113           min   \n",
       "4          2014      g  comedy, drama  as1           113           min   \n",
       "\n",
       "   userId  score   timestamp  \n",
       "0     543    5.0  2003-07-30  \n",
       "1     595    3.0  1996-08-13  \n",
       "2     611    3.0  2001-01-03  \n",
       "3    2523    3.5  2012-06-25  \n",
       "4    3082    4.0  2000-03-30  "
      ]
     },
     "execution_count": 5,
     "metadata": {},
     "output_type": "execute_result"
    }
   ],
   "source": [
    "df.head()"
   ]
  },
  {
   "cell_type": "code",
   "execution_count": 6,
   "id": "7f245c82",
   "metadata": {
    "scrolled": true
   },
   "outputs": [
    {
     "name": "stdout",
     "output_type": "stream",
     "text": [
      "<class 'pandas.core.frame.DataFrame'>\n",
      "Int64Index: 9515204 entries, 0 to 9524289\n",
      "Data columns (total 16 columns):\n",
      " #   Column         Dtype  \n",
      "---  ------         -----  \n",
      " 0   show_id        object \n",
      " 1   type           object \n",
      " 2   title          object \n",
      " 3   director       object \n",
      " 4   cast           object \n",
      " 5   country        object \n",
      " 6   date_added     object \n",
      " 7   release_year   int64  \n",
      " 8   rating         object \n",
      " 9   listed_in      object \n",
      " 10  id             object \n",
      " 11  duration_int   int64  \n",
      " 12  duration_type  object \n",
      " 13  userId         int64  \n",
      " 14  score          float64\n",
      " 15  timestamp      object \n",
      "dtypes: float64(1), int64(3), object(12)\n",
      "memory usage: 1.2+ GB\n"
     ]
    }
   ],
   "source": [
    "df.info()"
   ]
  },
  {
   "cell_type": "markdown",
   "id": "f87a69d2",
   "metadata": {},
   "source": [
    "## Escogiendo la Data"
   ]
  },
  {
   "cell_type": "markdown",
   "id": "44a1d4cb",
   "metadata": {},
   "source": [
    "### Filtrado colaborativo"
   ]
  },
  {
   "cell_type": "code",
   "execution_count": 8,
   "id": "1f983fb7",
   "metadata": {},
   "outputs": [
    {
     "data": {
      "text/html": [
       "<div>\n",
       "<style scoped>\n",
       "    .dataframe tbody tr th:only-of-type {\n",
       "        vertical-align: middle;\n",
       "    }\n",
       "\n",
       "    .dataframe tbody tr th {\n",
       "        vertical-align: top;\n",
       "    }\n",
       "\n",
       "    .dataframe thead th {\n",
       "        text-align: right;\n",
       "    }\n",
       "</style>\n",
       "<table border=\"1\" class=\"dataframe\">\n",
       "  <thead>\n",
       "    <tr style=\"text-align: right;\">\n",
       "      <th></th>\n",
       "      <th>userId</th>\n",
       "      <th>score</th>\n",
       "      <th>id</th>\n",
       "    </tr>\n",
       "  </thead>\n",
       "  <tbody>\n",
       "    <tr>\n",
       "      <th>0</th>\n",
       "      <td>543</td>\n",
       "      <td>5.0</td>\n",
       "      <td>as1</td>\n",
       "    </tr>\n",
       "    <tr>\n",
       "      <th>1</th>\n",
       "      <td>595</td>\n",
       "      <td>3.0</td>\n",
       "      <td>as1</td>\n",
       "    </tr>\n",
       "    <tr>\n",
       "      <th>2</th>\n",
       "      <td>611</td>\n",
       "      <td>3.0</td>\n",
       "      <td>as1</td>\n",
       "    </tr>\n",
       "    <tr>\n",
       "      <th>3</th>\n",
       "      <td>2523</td>\n",
       "      <td>3.5</td>\n",
       "      <td>as1</td>\n",
       "    </tr>\n",
       "    <tr>\n",
       "      <th>4</th>\n",
       "      <td>3082</td>\n",
       "      <td>4.0</td>\n",
       "      <td>as1</td>\n",
       "    </tr>\n",
       "  </tbody>\n",
       "</table>\n",
       "</div>"
      ],
      "text/plain": [
       "   userId  score   id\n",
       "0     543    5.0  as1\n",
       "1     595    3.0  as1\n",
       "2     611    3.0  as1\n",
       "3    2523    3.5  as1\n",
       "4    3082    4.0  as1"
      ]
     },
     "execution_count": 8,
     "metadata": {},
     "output_type": "execute_result"
    }
   ],
   "source": [
    "# Con ayuda de chatGPT pedi sugerencias para saber que tipo de modelo seria bueno para un sistema de recomendacion.\n",
    "# Dentro de las ejemplos que medio me llamo la atencion el llamado Filtro colaborativo\n",
    "# Este metodo solo necesita de los score y de los usuarios asi que de aqui partire para un EDA solo de los datos que me interesa\n",
    "df1 = df.loc[:, [\"userId\", \"score\",\"id\"]]\n",
    "df1.head()"
   ]
  },
  {
   "cell_type": "code",
   "execution_count": 11,
   "id": "50aef822",
   "metadata": {},
   "outputs": [
    {
     "data": {
      "text/html": [
       "<div>\n",
       "<style scoped>\n",
       "    .dataframe tbody tr th:only-of-type {\n",
       "        vertical-align: middle;\n",
       "    }\n",
       "\n",
       "    .dataframe tbody tr th {\n",
       "        vertical-align: top;\n",
       "    }\n",
       "\n",
       "    .dataframe thead th {\n",
       "        text-align: right;\n",
       "    }\n",
       "</style>\n",
       "<table border=\"1\" class=\"dataframe\">\n",
       "  <thead>\n",
       "    <tr style=\"text-align: right;\">\n",
       "      <th></th>\n",
       "      <th>id</th>\n",
       "      <th>title</th>\n",
       "    </tr>\n",
       "  </thead>\n",
       "  <tbody>\n",
       "    <tr>\n",
       "      <th>0</th>\n",
       "      <td>as1</td>\n",
       "      <td>the grand seduction</td>\n",
       "    </tr>\n",
       "    <tr>\n",
       "      <th>449</th>\n",
       "      <td>as2</td>\n",
       "      <td>take care good night</td>\n",
       "    </tr>\n",
       "    <tr>\n",
       "      <th>878</th>\n",
       "      <td>as3</td>\n",
       "      <td>secrets of deception</td>\n",
       "    </tr>\n",
       "    <tr>\n",
       "      <th>1240</th>\n",
       "      <td>as4</td>\n",
       "      <td>pink: staying true</td>\n",
       "    </tr>\n",
       "    <tr>\n",
       "      <th>1646</th>\n",
       "      <td>as5</td>\n",
       "      <td>monster maker</td>\n",
       "    </tr>\n",
       "  </tbody>\n",
       "</table>\n",
       "</div>"
      ],
      "text/plain": [
       "       id                 title\n",
       "0     as1   the grand seduction\n",
       "449   as2  take care good night\n",
       "878   as3  secrets of deception\n",
       "1240  as4    pink: staying true\n",
       "1646  as5         monster maker"
      ]
     },
     "execution_count": 11,
     "metadata": {},
     "output_type": "execute_result"
    }
   ],
   "source": [
    "# Colocare el nombre de las peliculas en otro DataFrame\n",
    "df2 = df2 = df.loc[:,[\"id\", \"title\"]]\n",
    "df2.drop_duplicates(inplace=True) # Nombres de peliculas\n",
    "df2.head()"
   ]
  },
  {
   "cell_type": "code",
   "execution_count": 13,
   "id": "2826dd7e",
   "metadata": {},
   "outputs": [
    {
     "name": "stdout",
     "output_type": "stream",
     "text": [
      "El numero de pelicuas es: 22998 y el numero de usuarios es: 99170\n"
     ]
    }
   ],
   "source": [
    "# Con esto conomemos el numero de usuarios  y la cantidad de peliculas con los que contamos\n",
    "num_peliculas = df2.shape\n",
    "num_usuarios = len(df1[\"userId\"].unique())\n",
    "print(\"El numero de pelicuas es: {} y el numero de usuarios es: {}\".format(num_peliculas[0],num_usuarios))"
   ]
  },
  {
   "cell_type": "code",
   "execution_count": 19,
   "id": "fb832a83",
   "metadata": {
    "scrolled": true
   },
   "outputs": [
    {
     "data": {
      "text/html": [
       "<div>\n",
       "<style scoped>\n",
       "    .dataframe tbody tr th:only-of-type {\n",
       "        vertical-align: middle;\n",
       "    }\n",
       "\n",
       "    .dataframe tbody tr th {\n",
       "        vertical-align: top;\n",
       "    }\n",
       "\n",
       "    .dataframe thead th {\n",
       "        text-align: right;\n",
       "    }\n",
       "</style>\n",
       "<table border=\"1\" class=\"dataframe\">\n",
       "  <thead>\n",
       "    <tr style=\"text-align: right;\">\n",
       "      <th></th>\n",
       "      <th>score</th>\n",
       "      <th>id</th>\n",
       "    </tr>\n",
       "    <tr>\n",
       "      <th>userId</th>\n",
       "      <th></th>\n",
       "      <th></th>\n",
       "    </tr>\n",
       "  </thead>\n",
       "  <tbody>\n",
       "    <tr>\n",
       "      <th>45811</th>\n",
       "      <td>18047</td>\n",
       "      <td>18047</td>\n",
       "    </tr>\n",
       "    <tr>\n",
       "      <th>8659</th>\n",
       "      <td>9255</td>\n",
       "      <td>9255</td>\n",
       "    </tr>\n",
       "    <tr>\n",
       "      <th>270123</th>\n",
       "      <td>7500</td>\n",
       "      <td>7500</td>\n",
       "    </tr>\n",
       "    <tr>\n",
       "      <th>70648</th>\n",
       "      <td>5336</td>\n",
       "      <td>5336</td>\n",
       "    </tr>\n",
       "    <tr>\n",
       "      <th>74275</th>\n",
       "      <td>4814</td>\n",
       "      <td>4814</td>\n",
       "    </tr>\n",
       "  </tbody>\n",
       "</table>\n",
       "</div>"
      ],
      "text/plain": [
       "        score     id\n",
       "userId              \n",
       "45811   18047  18047\n",
       "8659     9255   9255\n",
       "270123   7500   7500\n",
       "70648    5336   5336\n",
       "74275    4814   4814"
      ]
     },
     "execution_count": 19,
     "metadata": {},
     "output_type": "execute_result"
    }
   ],
   "source": [
    "#Caliicaciones de peliculas por usuario\n",
    "df1_by_users = df1.groupby([\"userId\"]).count()\n",
    "df1_by_users = df1_by_users.sort_values(by=\"id\", ascending=False)\n",
    "df1_by_users.head()"
   ]
  },
  {
   "cell_type": "markdown",
   "id": "636b4828",
   "metadata": {},
   "source": [
    "## Representacion Grafica de los datos"
   ]
  },
  {
   "cell_type": "markdown",
   "id": "392d6221",
   "metadata": {},
   "source": [
    "### Calificaciones por usuario"
   ]
  },
  {
   "cell_type": "code",
   "execution_count": 16,
   "id": "43157d7e",
   "metadata": {
    "scrolled": true
   },
   "outputs": [
    {
     "data": {
      "image/png": "[encoded data removed]",
      "text/plain": [
       "<Figure size 640x480 with 1 Axes>"
      ]
     },
     "metadata": {},
     "output_type": "display_data"
    }
   ],
   "source": [
    "plt.hist(df1_by_users.score, log= True)\n",
    "plt.title('Calificaciones por usuario')\n",
    "plt.show()"
   ]
  },
  {
   "cell_type": "markdown",
   "id": "29b14812",
   "metadata": {},
   "source": [
    "Podemos observar que la mayoria de los usuarios han calificado entre 0 - 2500 peliculas y hay un usuario que ha dado 18047 calificacion, realmente no se que pensar sobre ese usuario, no hay valores dupliados asi que solo me queda pensar que esta viendo one piece, no descartare a ese usuario."
   ]
  },
  {
   "cell_type": "markdown",
   "id": "9c6cd9d6",
   "metadata": {},
   "source": [
    "### Distribucion de calificaciones"
   ]
  },
  {
   "cell_type": "code",
   "execution_count": 20,
   "id": "2b0816b8",
   "metadata": {},
   "outputs": [
    {
     "data": {
      "image/png": "[encoded data removed]",
      "text/plain": [
       "<Figure size 640x480 with 1 Axes>"
      ]
     },
     "metadata": {},
     "output_type": "display_data"
    }
   ],
   "source": [
    "# Observamos la distribución de las calificaciones\n",
    "\n",
    "df1['score'].hist()\n",
    "plt.title('Distribución de calificaciones')\n",
    "plt.show()"
   ]
  },
  {
   "cell_type": "markdown",
   "id": "1ff602e4",
   "metadata": {},
   "source": [
    "Esta grafica muestra como estan distribuidas las calificaciones, valores entre 3 y 4 son los que destacan"
   ]
  },
  {
   "cell_type": "code",
   "execution_count": 22,
   "id": "6cf9edd3",
   "metadata": {
    "scrolled": true
   },
   "outputs": [
    {
     "data": {
      "text/html": [
       "<div>\n",
       "<style scoped>\n",
       "    .dataframe tbody tr th:only-of-type {\n",
       "        vertical-align: middle;\n",
       "    }\n",
       "\n",
       "    .dataframe tbody tr th {\n",
       "        vertical-align: top;\n",
       "    }\n",
       "\n",
       "    .dataframe thead th {\n",
       "        text-align: right;\n",
       "    }\n",
       "</style>\n",
       "<table border=\"1\" class=\"dataframe\">\n",
       "  <thead>\n",
       "    <tr style=\"text-align: right;\">\n",
       "      <th></th>\n",
       "      <th>userId</th>\n",
       "      <th>score</th>\n",
       "    </tr>\n",
       "    <tr>\n",
       "      <th>id</th>\n",
       "      <th></th>\n",
       "      <th></th>\n",
       "    </tr>\n",
       "  </thead>\n",
       "  <tbody>\n",
       "    <tr>\n",
       "      <th>as4197</th>\n",
       "      <td>496</td>\n",
       "      <td>496</td>\n",
       "    </tr>\n",
       "    <tr>\n",
       "      <th>as1254</th>\n",
       "      <td>494</td>\n",
       "      <td>494</td>\n",
       "    </tr>\n",
       "    <tr>\n",
       "      <th>as4889</th>\n",
       "      <td>491</td>\n",
       "      <td>491</td>\n",
       "    </tr>\n",
       "    <tr>\n",
       "      <th>as9065</th>\n",
       "      <td>488</td>\n",
       "      <td>488</td>\n",
       "    </tr>\n",
       "    <tr>\n",
       "      <th>as1512</th>\n",
       "      <td>488</td>\n",
       "      <td>488</td>\n",
       "    </tr>\n",
       "  </tbody>\n",
       "</table>\n",
       "</div>"
      ],
      "text/plain": [
       "        userId  score\n",
       "id                   \n",
       "as4197     496    496\n",
       "as1254     494    494\n",
       "as4889     491    491\n",
       "as9065     488    488\n",
       "as1512     488    488"
      ]
     },
     "execution_count": 22,
     "metadata": {},
     "output_type": "execute_result"
    }
   ],
   "source": [
    "# Pelicula que mas calificaciones tuvo\n",
    "df1_by_movies = df1.groupby(['id']).count()\n",
    "df1_by_movies = df1_by_movies.sort_values(by=\"score\", ascending=False)\n",
    "df1_by_movies.head()"
   ]
  },
  {
   "cell_type": "code",
   "execution_count": 23,
   "id": "a038a3a2",
   "metadata": {},
   "outputs": [
    {
     "data": {
      "text/html": [
       "<div>\n",
       "<style scoped>\n",
       "    .dataframe tbody tr th:only-of-type {\n",
       "        vertical-align: middle;\n",
       "    }\n",
       "\n",
       "    .dataframe tbody tr th {\n",
       "        vertical-align: top;\n",
       "    }\n",
       "\n",
       "    .dataframe thead th {\n",
       "        text-align: right;\n",
       "    }\n",
       "</style>\n",
       "<table border=\"1\" class=\"dataframe\">\n",
       "  <thead>\n",
       "    <tr style=\"text-align: right;\">\n",
       "      <th></th>\n",
       "      <th>id</th>\n",
       "      <th>title</th>\n",
       "    </tr>\n",
       "  </thead>\n",
       "  <tbody>\n",
       "    <tr>\n",
       "      <th>1739345</th>\n",
       "      <td>as4197</td>\n",
       "      <td>from other worlds</td>\n",
       "    </tr>\n",
       "  </tbody>\n",
       "</table>\n",
       "</div>"
      ],
      "text/plain": [
       "             id              title\n",
       "1739345  as4197  from other worlds"
      ]
     },
     "execution_count": 23,
     "metadata": {},
     "output_type": "execute_result"
    }
   ],
   "source": [
    "df2[df2[\"id\"] == 'as4197']"
   ]
  },
  {
   "cell_type": "code",
   "execution_count": 24,
   "id": "444aadfe",
   "metadata": {},
   "outputs": [
    {
     "data": {
      "text/html": [
       "<div>\n",
       "<style scoped>\n",
       "    .dataframe tbody tr th:only-of-type {\n",
       "        vertical-align: middle;\n",
       "    }\n",
       "\n",
       "    .dataframe tbody tr th {\n",
       "        vertical-align: top;\n",
       "    }\n",
       "\n",
       "    .dataframe thead th {\n",
       "        text-align: right;\n",
       "    }\n",
       "</style>\n",
       "<table border=\"1\" class=\"dataframe\">\n",
       "  <thead>\n",
       "    <tr style=\"text-align: right;\">\n",
       "      <th></th>\n",
       "      <th>userId</th>\n",
       "      <th>score</th>\n",
       "    </tr>\n",
       "    <tr>\n",
       "      <th>id</th>\n",
       "      <th></th>\n",
       "      <th></th>\n",
       "    </tr>\n",
       "  </thead>\n",
       "  <tbody>\n",
       "    <tr>\n",
       "      <th>as5305</th>\n",
       "      <td>345</td>\n",
       "      <td>345</td>\n",
       "    </tr>\n",
       "    <tr>\n",
       "      <th>ns6535</th>\n",
       "      <td>343</td>\n",
       "      <td>343</td>\n",
       "    </tr>\n",
       "    <tr>\n",
       "      <th>as3489</th>\n",
       "      <td>342</td>\n",
       "      <td>342</td>\n",
       "    </tr>\n",
       "    <tr>\n",
       "      <th>ds706</th>\n",
       "      <td>334</td>\n",
       "      <td>334</td>\n",
       "    </tr>\n",
       "    <tr>\n",
       "      <th>ns5759</th>\n",
       "      <td>331</td>\n",
       "      <td>331</td>\n",
       "    </tr>\n",
       "  </tbody>\n",
       "</table>\n",
       "</div>"
      ],
      "text/plain": [
       "        userId  score\n",
       "id                   \n",
       "as5305     345    345\n",
       "ns6535     343    343\n",
       "as3489     342    342\n",
       "ds706      334    334\n",
       "ns5759     331    331"
      ]
     },
     "execution_count": 24,
     "metadata": {},
     "output_type": "execute_result"
    }
   ],
   "source": [
    "#Pelicula que menos calificaciones tuvo\n",
    "df1_by_movies.tail()"
   ]
  },
  {
   "cell_type": "code",
   "execution_count": 25,
   "id": "cc70156d",
   "metadata": {
    "scrolled": true
   },
   "outputs": [
    {
     "data": {
      "text/html": [
       "<div>\n",
       "<style scoped>\n",
       "    .dataframe tbody tr th:only-of-type {\n",
       "        vertical-align: middle;\n",
       "    }\n",
       "\n",
       "    .dataframe tbody tr th {\n",
       "        vertical-align: top;\n",
       "    }\n",
       "\n",
       "    .dataframe thead th {\n",
       "        text-align: right;\n",
       "    }\n",
       "</style>\n",
       "<table border=\"1\" class=\"dataframe\">\n",
       "  <thead>\n",
       "    <tr style=\"text-align: right;\">\n",
       "      <th></th>\n",
       "      <th>id</th>\n",
       "      <th>title</th>\n",
       "    </tr>\n",
       "  </thead>\n",
       "  <tbody>\n",
       "    <tr>\n",
       "      <th>8260385</th>\n",
       "      <td>ns5759</td>\n",
       "      <td>russell peters: almost famous</td>\n",
       "    </tr>\n",
       "  </tbody>\n",
       "</table>\n",
       "</div>"
      ],
      "text/plain": [
       "             id                          title\n",
       "8260385  ns5759  russell peters: almost famous"
      ]
     },
     "execution_count": 25,
     "metadata": {},
     "output_type": "execute_result"
    }
   ],
   "source": [
    "df2[df2[\"id\"] == 'ns5759']"
   ]
  },
  {
   "cell_type": "code",
   "execution_count": 26,
   "id": "28e16610",
   "metadata": {
    "scrolled": true
   },
   "outputs": [
    {
     "data": {
      "text/html": [
       "<div>\n",
       "<style scoped>\n",
       "    .dataframe tbody tr th:only-of-type {\n",
       "        vertical-align: middle;\n",
       "    }\n",
       "\n",
       "    .dataframe tbody tr th {\n",
       "        vertical-align: top;\n",
       "    }\n",
       "\n",
       "    .dataframe thead th {\n",
       "        text-align: right;\n",
       "    }\n",
       "</style>\n",
       "<table border=\"1\" class=\"dataframe\">\n",
       "  <thead>\n",
       "    <tr style=\"text-align: right;\">\n",
       "      <th></th>\n",
       "      <th>id</th>\n",
       "      <th>Vistos</th>\n",
       "    </tr>\n",
       "  </thead>\n",
       "  <tbody>\n",
       "    <tr>\n",
       "      <th>3553</th>\n",
       "      <td>as4197</td>\n",
       "      <td>496</td>\n",
       "    </tr>\n",
       "    <tr>\n",
       "      <th>284</th>\n",
       "      <td>as1254</td>\n",
       "      <td>494</td>\n",
       "    </tr>\n",
       "    <tr>\n",
       "      <th>4321</th>\n",
       "      <td>as4889</td>\n",
       "      <td>491</td>\n",
       "    </tr>\n",
       "    <tr>\n",
       "      <th>8962</th>\n",
       "      <td>as9065</td>\n",
       "      <td>488</td>\n",
       "    </tr>\n",
       "    <tr>\n",
       "      <th>571</th>\n",
       "      <td>as1512</td>\n",
       "      <td>488</td>\n",
       "    </tr>\n",
       "    <tr>\n",
       "      <th>19462</th>\n",
       "      <td>ns5743</td>\n",
       "      <td>487</td>\n",
       "    </tr>\n",
       "    <tr>\n",
       "      <th>14057</th>\n",
       "      <td>hs879</td>\n",
       "      <td>486</td>\n",
       "    </tr>\n",
       "    <tr>\n",
       "      <th>16942</th>\n",
       "      <td>ns3475</td>\n",
       "      <td>486</td>\n",
       "    </tr>\n",
       "    <tr>\n",
       "      <th>20011</th>\n",
       "      <td>ns6237</td>\n",
       "      <td>484</td>\n",
       "    </tr>\n",
       "    <tr>\n",
       "      <th>16646</th>\n",
       "      <td>ns3208</td>\n",
       "      <td>484</td>\n",
       "    </tr>\n",
       "  </tbody>\n",
       "</table>\n",
       "</div>"
      ],
      "text/plain": [
       "           id  Vistos\n",
       "3553   as4197     496\n",
       "284    as1254     494\n",
       "4321   as4889     491\n",
       "8962   as9065     488\n",
       "571    as1512     488\n",
       "19462  ns5743     487\n",
       "14057   hs879     486\n",
       "16942  ns3475     486\n",
       "20011  ns6237     484\n",
       "16646  ns3208     484"
      ]
     },
     "execution_count": 26,
     "metadata": {},
     "output_type": "execute_result"
    }
   ],
   "source": [
    "# Peliculas por popularidad\n",
    "df1_by_movies = df1.groupby(['id'], as_index=False).count() #Agrupamos por pelicula\n",
    "df1_by_movies.sort_values('userId', ascending = False, inplace = True)\n",
    "df1_by_movies['Vistos'] = df1_by_movies['userId']\n",
    "df1_by_movies.drop(columns = ['userId','score'], inplace = True)\n",
    "df1_by_movies.head(10)"
   ]
  },
  {
   "cell_type": "code",
   "execution_count": 27,
   "id": "36bcc6a3",
   "metadata": {
    "scrolled": true
   },
   "outputs": [
    {
     "data": {
      "text/html": [
       "<div>\n",
       "<style scoped>\n",
       "    .dataframe tbody tr th:only-of-type {\n",
       "        vertical-align: middle;\n",
       "    }\n",
       "\n",
       "    .dataframe tbody tr th {\n",
       "        vertical-align: top;\n",
       "    }\n",
       "\n",
       "    .dataframe thead th {\n",
       "        text-align: right;\n",
       "    }\n",
       "</style>\n",
       "<table border=\"1\" class=\"dataframe\">\n",
       "  <thead>\n",
       "    <tr style=\"text-align: right;\">\n",
       "      <th></th>\n",
       "      <th>id</th>\n",
       "      <th>Vistos</th>\n",
       "      <th>title</th>\n",
       "    </tr>\n",
       "  </thead>\n",
       "  <tbody>\n",
       "    <tr>\n",
       "      <th>0</th>\n",
       "      <td>as4197</td>\n",
       "      <td>496</td>\n",
       "      <td>from other worlds</td>\n",
       "    </tr>\n",
       "    <tr>\n",
       "      <th>1</th>\n",
       "      <td>as1254</td>\n",
       "      <td>494</td>\n",
       "      <td>prisoners' wives</td>\n",
       "    </tr>\n",
       "    <tr>\n",
       "      <th>2</th>\n",
       "      <td>as4889</td>\n",
       "      <td>491</td>\n",
       "      <td>a stone in the water</td>\n",
       "    </tr>\n",
       "    <tr>\n",
       "      <th>3</th>\n",
       "      <td>as9065</td>\n",
       "      <td>488</td>\n",
       "      <td>the organization</td>\n",
       "    </tr>\n",
       "    <tr>\n",
       "      <th>4</th>\n",
       "      <td>as1512</td>\n",
       "      <td>488</td>\n",
       "      <td>nba the essentials: boston celtics � 1988 east...</td>\n",
       "    </tr>\n",
       "  </tbody>\n",
       "</table>\n",
       "</div>"
      ],
      "text/plain": [
       "       id  Vistos                                              title\n",
       "0  as4197     496                                  from other worlds\n",
       "1  as1254     494                                   prisoners' wives\n",
       "2  as4889     491                               a stone in the water\n",
       "3  as9065     488                                   the organization\n",
       "4  as1512     488  nba the essentials: boston celtics � 1988 east..."
      ]
     },
     "execution_count": 27,
     "metadata": {},
     "output_type": "execute_result"
    }
   ],
   "source": [
    "# Observamos que peliculas son\n",
    "df1_by_movies = df1_by_movies.merge(df2)\n",
    "df1_by_movies.head()"
   ]
  },
  {
   "cell_type": "markdown",
   "id": "ebb0e172",
   "metadata": {},
   "source": [
    "### Distribucion de la cantidad de vistas"
   ]
  },
  {
   "cell_type": "code",
   "execution_count": 28,
   "id": "16db8f4f",
   "metadata": {},
   "outputs": [
    {
     "data": {
      "image/png": "[encoded data removed]",
      "text/plain": [
       "<Figure size 800x400 with 1 Axes>"
      ]
     },
     "metadata": {},
     "output_type": "display_data"
    }
   ],
   "source": [
    "plt.figure(figsize = (8,4))\n",
    "\n",
    "df1_by_movies.Vistos[df1_by_movies.Vistos<500].hist(log = True, bins = 20)\n",
    "plt.title('Distribución de la cantidad de vistas')\n",
    "\n",
    "plt.show()"
   ]
  },
  {
   "cell_type": "markdown",
   "id": "b93a89b8",
   "metadata": {},
   "source": [
    "En este grafico podemos ver como se distribuye la cantidad de vistas.\n",
    "Dado que no hay una pelicula realmente poco calificada ni una que lo este mucho no descartare a ninguna."
   ]
  },
  {
   "cell_type": "code",
   "execution_count": 30,
   "id": "21f71891",
   "metadata": {},
   "outputs": [
    {
     "name": "stdout",
     "output_type": "stream",
     "text": [
      "El total de calificaciones son: 9515204\n"
     ]
    }
   ],
   "source": [
    "cantidad_calificaciones = df1.shape\n",
    "print(\"El total de calificaciones son:\", cantidad_calificaciones[0])"
   ]
  },
  {
   "cell_type": "markdown",
   "id": "2921e582",
   "metadata": {},
   "source": [
    "## Exportacion de los datos "
   ]
  },
  {
   "cell_type": "markdown",
   "id": "7720ba36",
   "metadata": {},
   "source": [
    "### Calificaciones de usuarios"
   ]
  },
  {
   "cell_type": "code",
   "execution_count": 32,
   "id": "78c2bea3",
   "metadata": {},
   "outputs": [],
   "source": [
    "df1.to_csv(\"Machine_Learning_Data/Calificaciones.csv\", index=False)"
   ]
  },
  {
   "cell_type": "markdown",
   "id": "83ccf0d4",
   "metadata": {},
   "source": [
    "### Nombre de las peliculas"
   ]
  },
  {
   "cell_type": "code",
   "execution_count": 33,
   "id": "9184d851",
   "metadata": {},
   "outputs": [],
   "source": [
    "df2.to_csv(\"Machine_Learning_Data/Titulos.csv\", index=False)"
   ]
  }
 ],
 "metadata": {
  "kernelspec": {
   "display_name": "Python 3 (ipykernel)",
   "language": "python",
   "name": "python3"
  },
  "language_info": {
   "codemirror_mode": {
    "name": "ipython",
    "version": 3
   },
   "file_extension": ".py",
   "mimetype": "text/x-python",
   "name": "python",
   "nbconvert_exporter": "python",
   "pygments_lexer": "ipython3",
   "version": "3.9.13"
  }
 },
 "nbformat": 4,
 "nbformat_minor": 5
}
