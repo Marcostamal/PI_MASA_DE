{
 "cells": [
  {
   "cell_type": "markdown",
   "id": "d5febe35",
   "metadata": {},
   "source": [
    "# Modelo Machine Learning"
   ]
  },
  {
   "cell_type": "markdown",
   "id": "5ba7adfe",
   "metadata": {},
   "source": [
    "## Importamos las librerias"
   ]
  },
  {
   "cell_type": "code",
   "execution_count": 1,
   "id": "d3903607",
   "metadata": {},
   "outputs": [],
   "source": [
    "import pandas as pd\n",
    "import numpy as np\n",
    "import matplotlib.pyplot as plt\n",
    "from surprise import Dataset\n",
    "from surprise import Reader\n",
    "from surprise.model_selection import train_test_split"
   ]
  },
  {
   "cell_type": "code",
   "execution_count": 2,
   "id": "b3b2caed",
   "metadata": {},
   "outputs": [],
   "source": [
    "reader = Reader()"
   ]
  },
  {
   "cell_type": "markdown",
   "id": "ce9f6b8f",
   "metadata": {},
   "source": [
    "## Cargamos nuestros datos resultandes del EDA"
   ]
  },
  {
   "attachments": {},
   "cell_type": "markdown",
   "id": "0e99325f",
   "metadata": {},
   "source": [
    "Los datos puede sacarlos de la carpeta data_para_ML que esta en el drive compartido en el repositorio"
   ]
  },
  {
   "cell_type": "code",
   "execution_count": 4,
   "id": "6afe4e0a",
   "metadata": {},
   "outputs": [],
   "source": [
    "df1 = pd.read_csv(\"C:/Users/Alejandro/Desktop/Proyecto2/Machine_Learning_Data/Calificaciones.csv\") # CALIFICACIONES"
   ]
  },
  {
   "cell_type": "code",
   "execution_count": 5,
   "id": "8346baab",
   "metadata": {},
   "outputs": [],
   "source": [
    "df2 = pd.read_csv(\"C:/Users/Alejandro/Desktop/Proyecto2/Machine_Learning_Data/Titulos.csv\") # NOMBRES DE PELICULAS"
   ]
  },
  {
   "cell_type": "markdown",
   "id": "d912378f",
   "metadata": {},
   "source": [
    "### Seleccionamos la informacion"
   ]
  },
  {
   "cell_type": "code",
   "execution_count": 6,
   "id": "9831ea62",
   "metadata": {},
   "outputs": [],
   "source": [
    "# Ya que es mucha info la que se esta manejando seleccionare solo una parte de los datos\n",
    "# Usare los datos del dataframe de calificaciones que exista cada 4 filas\n",
    "data = Dataset.load_from_df(df1[['userId', 'id', 'score']][::4], reader)"
   ]
  },
  {
   "cell_type": "code",
   "execution_count": 7,
   "id": "21856f55",
   "metadata": {},
   "outputs": [],
   "source": [
    "# Separamos nuestros datos\n",
    "trainset, testset = train_test_split(data, test_size=.25)"
   ]
  },
  {
   "cell_type": "code",
   "execution_count": 8,
   "id": "81573882",
   "metadata": {},
   "outputs": [],
   "source": [
    "# Usaremos un modelo de Singular Value Decomposition\n",
    "from surprise import SVD\n",
    "model = SVD()"
   ]
  },
  {
   "cell_type": "markdown",
   "id": "aec35727",
   "metadata": {},
   "source": [
    "### Entrenamiento"
   ]
  },
  {
   "cell_type": "code",
   "execution_count": 9,
   "id": "4f46fd3a",
   "metadata": {},
   "outputs": [
    {
     "data": {
      "text/plain": [
       "<surprise.prediction_algorithms.matrix_factorization.SVD at 0x15769b2ef80>"
      ]
     },
     "execution_count": 9,
     "metadata": {},
     "output_type": "execute_result"
    }
   ],
   "source": [
    "# Entrenamos el modelo\n",
    "model.fit(trainset)"
   ]
  },
  {
   "cell_type": "markdown",
   "id": "4227c2b5",
   "metadata": {},
   "source": [
    "### Prediccion"
   ]
  },
  {
   "cell_type": "code",
   "execution_count": 10,
   "id": "c9fc610a",
   "metadata": {},
   "outputs": [],
   "source": [
    "# Predecimos\n",
    "predictions = model.test(testset)"
   ]
  },
  {
   "cell_type": "code",
   "execution_count": 11,
   "id": "f3d24bc4",
   "metadata": {},
   "outputs": [
    {
     "data": {
      "text/plain": [
       "Prediction(uid=74275, iid='as3578', r_ui=4.0, est=2.8350031259712742, details={'was_impossible': False})"
      ]
     },
     "execution_count": 11,
     "metadata": {},
     "output_type": "execute_result"
    }
   ],
   "source": [
    "predictions[1]"
   ]
  },
  {
   "cell_type": "code",
   "execution_count": 12,
   "id": "9dbfaff2",
   "metadata": {},
   "outputs": [
    {
     "data": {
      "text/plain": [
       "Prediction(uid=500, iid='as382', r_ui=None, est=3.817883911860072, details={'was_impossible': False})"
      ]
     },
     "execution_count": 12,
     "metadata": {},
     "output_type": "execute_result"
    }
   ],
   "source": [
    "# Hacemos una predicción al azar para usuario y película\n",
    "model.predict(500,\"as382\")"
   ]
  },
  {
   "cell_type": "markdown",
   "id": "19ac13c4",
   "metadata": {},
   "source": [
    "## Eleccion de usuario"
   ]
  },
  {
   "cell_type": "code",
   "execution_count": 13,
   "id": "d4b14992",
   "metadata": {},
   "outputs": [],
   "source": [
    "# Tomaremos un usuario para hacerle una recomendación\n",
    "usuario = 200\n",
    "rating = 4   # Tomamos películas a las que haya calificado con mas de 3 estrellas\n",
    "df_user = df1[(df1['userId'] == usuario) & (df1['score'] >= rating)]"
   ]
  },
  {
   "cell_type": "code",
   "execution_count": 14,
   "id": "82d325c0",
   "metadata": {},
   "outputs": [
    {
     "data": {
      "text/html": [
       "<div>\n",
       "<style scoped>\n",
       "    .dataframe tbody tr th:only-of-type {\n",
       "        vertical-align: middle;\n",
       "    }\n",
       "\n",
       "    .dataframe tbody tr th {\n",
       "        vertical-align: top;\n",
       "    }\n",
       "\n",
       "    .dataframe thead th {\n",
       "        text-align: right;\n",
       "    }\n",
       "</style>\n",
       "<table border=\"1\" class=\"dataframe\">\n",
       "  <thead>\n",
       "    <tr style=\"text-align: right;\">\n",
       "      <th></th>\n",
       "      <th>userId</th>\n",
       "      <th>score</th>\n",
       "      <th>id</th>\n",
       "    </tr>\n",
       "  </thead>\n",
       "  <tbody>\n",
       "    <tr>\n",
       "      <th>225004</th>\n",
       "      <td>200</td>\n",
       "      <td>4.0</td>\n",
       "      <td>as545</td>\n",
       "    </tr>\n",
       "    <tr>\n",
       "      <th>935886</th>\n",
       "      <td>200</td>\n",
       "      <td>4.0</td>\n",
       "      <td>as2262</td>\n",
       "    </tr>\n",
       "    <tr>\n",
       "      <th>2135789</th>\n",
       "      <td>200</td>\n",
       "      <td>4.0</td>\n",
       "      <td>as5161</td>\n",
       "    </tr>\n",
       "    <tr>\n",
       "      <th>2404706</th>\n",
       "      <td>200</td>\n",
       "      <td>4.0</td>\n",
       "      <td>as5810</td>\n",
       "    </tr>\n",
       "    <tr>\n",
       "      <th>2504650</th>\n",
       "      <td>200</td>\n",
       "      <td>4.5</td>\n",
       "      <td>as6052</td>\n",
       "    </tr>\n",
       "  </tbody>\n",
       "</table>\n",
       "</div>"
      ],
      "text/plain": [
       "         userId  score      id\n",
       "225004      200    4.0   as545\n",
       "935886      200    4.0  as2262\n",
       "2135789     200    4.0  as5161\n",
       "2404706     200    4.0  as5810\n",
       "2504650     200    4.5  as6052"
      ]
     },
     "execution_count": 14,
     "metadata": {},
     "output_type": "execute_result"
    }
   ],
   "source": [
    "df_user.head()"
   ]
  },
  {
   "cell_type": "code",
   "execution_count": 15,
   "id": "c3868f3d",
   "metadata": {},
   "outputs": [],
   "source": [
    "df_user = df_user.reset_index(drop=True)"
   ]
  },
  {
   "cell_type": "code",
   "execution_count": 16,
   "id": "85f9273e",
   "metadata": {
    "scrolled": true
   },
   "outputs": [
    {
     "data": {
      "text/html": [
       "<div>\n",
       "<style scoped>\n",
       "    .dataframe tbody tr th:only-of-type {\n",
       "        vertical-align: middle;\n",
       "    }\n",
       "\n",
       "    .dataframe tbody tr th {\n",
       "        vertical-align: top;\n",
       "    }\n",
       "\n",
       "    .dataframe thead th {\n",
       "        text-align: right;\n",
       "    }\n",
       "</style>\n",
       "<table border=\"1\" class=\"dataframe\">\n",
       "  <thead>\n",
       "    <tr style=\"text-align: right;\">\n",
       "      <th></th>\n",
       "      <th>userId</th>\n",
       "      <th>score</th>\n",
       "      <th>id</th>\n",
       "      <th>title</th>\n",
       "    </tr>\n",
       "  </thead>\n",
       "  <tbody>\n",
       "    <tr>\n",
       "      <th>0</th>\n",
       "      <td>200</td>\n",
       "      <td>4.0</td>\n",
       "      <td>as545</td>\n",
       "      <td>the mandela effect</td>\n",
       "    </tr>\n",
       "    <tr>\n",
       "      <th>1</th>\n",
       "      <td>200</td>\n",
       "      <td>4.0</td>\n",
       "      <td>as2262</td>\n",
       "      <td>hannie caulder</td>\n",
       "    </tr>\n",
       "    <tr>\n",
       "      <th>2</th>\n",
       "      <td>200</td>\n",
       "      <td>4.0</td>\n",
       "      <td>as5161</td>\n",
       "      <td>one step behind the seraphim</td>\n",
       "    </tr>\n",
       "    <tr>\n",
       "      <th>3</th>\n",
       "      <td>200</td>\n",
       "      <td>4.0</td>\n",
       "      <td>as5810</td>\n",
       "      <td>lea &amp; pop - baby shark &amp; more kids songs</td>\n",
       "    </tr>\n",
       "    <tr>\n",
       "      <th>4</th>\n",
       "      <td>200</td>\n",
       "      <td>4.5</td>\n",
       "      <td>as6052</td>\n",
       "      <td>pinkfong! phonics songs</td>\n",
       "    </tr>\n",
       "  </tbody>\n",
       "</table>\n",
       "</div>"
      ],
      "text/plain": [
       "   userId  score      id                                     title\n",
       "0     200    4.0   as545                        the mandela effect\n",
       "1     200    4.0  as2262                            hannie caulder\n",
       "2     200    4.0  as5161              one step behind the seraphim\n",
       "3     200    4.0  as5810  lea & pop - baby shark & more kids songs\n",
       "4     200    4.5  as6052                   pinkfong! phonics songs"
      ]
     },
     "execution_count": 16,
     "metadata": {},
     "output_type": "execute_result"
    }
   ],
   "source": [
    "df_user = df_user.merge(df2, on=\"id\")\n",
    "df_user.head()"
   ]
  },
  {
   "cell_type": "code",
   "execution_count": 17,
   "id": "4fe4be69",
   "metadata": {},
   "outputs": [
    {
     "name": "stdout",
     "output_type": "stream",
     "text": [
      "(4499, 2)\n"
     ]
    },
    {
     "data": {
      "text/html": [
       "<div>\n",
       "<style scoped>\n",
       "    .dataframe tbody tr th:only-of-type {\n",
       "        vertical-align: middle;\n",
       "    }\n",
       "\n",
       "    .dataframe tbody tr th {\n",
       "        vertical-align: top;\n",
       "    }\n",
       "\n",
       "    .dataframe thead th {\n",
       "        text-align: right;\n",
       "    }\n",
       "</style>\n",
       "<table border=\"1\" class=\"dataframe\">\n",
       "  <thead>\n",
       "    <tr style=\"text-align: right;\">\n",
       "      <th></th>\n",
       "      <th>id</th>\n",
       "      <th>title</th>\n",
       "    </tr>\n",
       "  </thead>\n",
       "  <tbody>\n",
       "    <tr>\n",
       "      <th>0</th>\n",
       "      <td>as1</td>\n",
       "      <td>the grand seduction</td>\n",
       "    </tr>\n",
       "    <tr>\n",
       "      <th>1</th>\n",
       "      <td>as2</td>\n",
       "      <td>take care good night</td>\n",
       "    </tr>\n",
       "    <tr>\n",
       "      <th>2</th>\n",
       "      <td>as3</td>\n",
       "      <td>secrets of deception</td>\n",
       "    </tr>\n",
       "    <tr>\n",
       "      <th>3</th>\n",
       "      <td>as4</td>\n",
       "      <td>pink: staying true</td>\n",
       "    </tr>\n",
       "    <tr>\n",
       "      <th>4</th>\n",
       "      <td>as5</td>\n",
       "      <td>monster maker</td>\n",
       "    </tr>\n",
       "  </tbody>\n",
       "</table>\n",
       "</div>"
      ],
      "text/plain": [
       "    id                 title\n",
       "0  as1   the grand seduction\n",
       "1  as2  take care good night\n",
       "2  as3  secrets of deception\n",
       "3  as4    pink: staying true\n",
       "4  as5         monster maker"
      ]
     },
     "execution_count": 17,
     "metadata": {},
     "output_type": "execute_result"
    }
   ],
   "source": [
    "recomendaciones_usuario = df2.iloc[:4499].copy()\n",
    "print(recomendaciones_usuario.shape)\n",
    "recomendaciones_usuario.head()"
   ]
  },
  {
   "cell_type": "code",
   "execution_count": 18,
   "id": "4050987f",
   "metadata": {},
   "outputs": [
    {
     "name": "stdout",
     "output_type": "stream",
     "text": [
      "(67, 3)\n"
     ]
    },
    {
     "data": {
      "text/html": [
       "<div>\n",
       "<style scoped>\n",
       "    .dataframe tbody tr th:only-of-type {\n",
       "        vertical-align: middle;\n",
       "    }\n",
       "\n",
       "    .dataframe tbody tr th {\n",
       "        vertical-align: top;\n",
       "    }\n",
       "\n",
       "    .dataframe thead th {\n",
       "        text-align: right;\n",
       "    }\n",
       "</style>\n",
       "<table border=\"1\" class=\"dataframe\">\n",
       "  <thead>\n",
       "    <tr style=\"text-align: right;\">\n",
       "      <th></th>\n",
       "      <th>userId</th>\n",
       "      <th>score</th>\n",
       "      <th>id</th>\n",
       "    </tr>\n",
       "  </thead>\n",
       "  <tbody>\n",
       "    <tr>\n",
       "      <th>225004</th>\n",
       "      <td>200</td>\n",
       "      <td>4.0</td>\n",
       "      <td>as545</td>\n",
       "    </tr>\n",
       "    <tr>\n",
       "      <th>935886</th>\n",
       "      <td>200</td>\n",
       "      <td>4.0</td>\n",
       "      <td>as2262</td>\n",
       "    </tr>\n",
       "    <tr>\n",
       "      <th>2064586</th>\n",
       "      <td>200</td>\n",
       "      <td>2.5</td>\n",
       "      <td>as4989</td>\n",
       "    </tr>\n",
       "    <tr>\n",
       "      <th>2135789</th>\n",
       "      <td>200</td>\n",
       "      <td>4.0</td>\n",
       "      <td>as5161</td>\n",
       "    </tr>\n",
       "    <tr>\n",
       "      <th>2270885</th>\n",
       "      <td>200</td>\n",
       "      <td>1.0</td>\n",
       "      <td>as5488</td>\n",
       "    </tr>\n",
       "    <tr>\n",
       "      <th>2404706</th>\n",
       "      <td>200</td>\n",
       "      <td>4.0</td>\n",
       "      <td>as5810</td>\n",
       "    </tr>\n",
       "    <tr>\n",
       "      <th>2504650</th>\n",
       "      <td>200</td>\n",
       "      <td>4.5</td>\n",
       "      <td>as6052</td>\n",
       "    </tr>\n",
       "    <tr>\n",
       "      <th>2606521</th>\n",
       "      <td>200</td>\n",
       "      <td>3.0</td>\n",
       "      <td>as6299</td>\n",
       "    </tr>\n",
       "    <tr>\n",
       "      <th>2696321</th>\n",
       "      <td>200</td>\n",
       "      <td>4.0</td>\n",
       "      <td>as6517</td>\n",
       "    </tr>\n",
       "    <tr>\n",
       "      <th>2758756</th>\n",
       "      <td>200</td>\n",
       "      <td>5.0</td>\n",
       "      <td>as6668</td>\n",
       "    </tr>\n",
       "    <tr>\n",
       "      <th>2809573</th>\n",
       "      <td>200</td>\n",
       "      <td>4.0</td>\n",
       "      <td>as6791</td>\n",
       "    </tr>\n",
       "    <tr>\n",
       "      <th>2935453</th>\n",
       "      <td>200</td>\n",
       "      <td>3.5</td>\n",
       "      <td>as7095</td>\n",
       "    </tr>\n",
       "    <tr>\n",
       "      <th>2980185</th>\n",
       "      <td>200</td>\n",
       "      <td>4.5</td>\n",
       "      <td>as7203</td>\n",
       "    </tr>\n",
       "    <tr>\n",
       "      <th>3073308</th>\n",
       "      <td>200</td>\n",
       "      <td>2.5</td>\n",
       "      <td>as7428</td>\n",
       "    </tr>\n",
       "    <tr>\n",
       "      <th>3106633</th>\n",
       "      <td>200</td>\n",
       "      <td>4.0</td>\n",
       "      <td>as7509</td>\n",
       "    </tr>\n",
       "  </tbody>\n",
       "</table>\n",
       "</div>"
      ],
      "text/plain": [
       "         userId  score      id\n",
       "225004      200    4.0   as545\n",
       "935886      200    4.0  as2262\n",
       "2064586     200    2.5  as4989\n",
       "2135789     200    4.0  as5161\n",
       "2270885     200    1.0  as5488\n",
       "2404706     200    4.0  as5810\n",
       "2504650     200    4.5  as6052\n",
       "2606521     200    3.0  as6299\n",
       "2696321     200    4.0  as6517\n",
       "2758756     200    5.0  as6668\n",
       "2809573     200    4.0  as6791\n",
       "2935453     200    3.5  as7095\n",
       "2980185     200    4.5  as7203\n",
       "3073308     200    2.5  as7428\n",
       "3106633     200    4.0  as7509"
      ]
     },
     "execution_count": 18,
     "metadata": {},
     "output_type": "execute_result"
    }
   ],
   "source": [
    "# Debemos extraer las películas que ya ha visto\n",
    "\n",
    "usuario_vistas = df1[df1['userId'] == usuario]\n",
    "print(usuario_vistas.shape)\n",
    "usuario_vistas.head(15)"
   ]
  },
  {
   "cell_type": "markdown",
   "id": "0feffc4f",
   "metadata": {},
   "source": [
    "## Peliculas que se recomiendan"
   ]
  },
  {
   "cell_type": "code",
   "execution_count": 19,
   "id": "4d53d28a",
   "metadata": {},
   "outputs": [],
   "source": [
    "# Recomendamos\n",
    "\n",
    "recomendaciones_usuario['Estimate_Score'] = recomendaciones_usuario['id'].apply(lambda x: model.predict(usuario, x).est)"
   ]
  },
  {
   "cell_type": "code",
   "execution_count": 20,
   "id": "c0d3c163",
   "metadata": {
    "scrolled": true
   },
   "outputs": [
    {
     "data": {
      "text/html": [
       "<div>\n",
       "<style scoped>\n",
       "    .dataframe tbody tr th:only-of-type {\n",
       "        vertical-align: middle;\n",
       "    }\n",
       "\n",
       "    .dataframe tbody tr th {\n",
       "        vertical-align: top;\n",
       "    }\n",
       "\n",
       "    .dataframe thead th {\n",
       "        text-align: right;\n",
       "    }\n",
       "</style>\n",
       "<table border=\"1\" class=\"dataframe\">\n",
       "  <thead>\n",
       "    <tr style=\"text-align: right;\">\n",
       "      <th></th>\n",
       "      <th>id</th>\n",
       "      <th>title</th>\n",
       "      <th>Estimate_Score</th>\n",
       "    </tr>\n",
       "  </thead>\n",
       "  <tbody>\n",
       "    <tr>\n",
       "      <th>4134</th>\n",
       "      <td>as4135</td>\n",
       "      <td>my 3 boys</td>\n",
       "      <td>4.407699</td>\n",
       "    </tr>\n",
       "    <tr>\n",
       "      <th>2138</th>\n",
       "      <td>as2139</td>\n",
       "      <td>ian bagg: conversations</td>\n",
       "      <td>4.344689</td>\n",
       "    </tr>\n",
       "    <tr>\n",
       "      <th>2167</th>\n",
       "      <td>as2168</td>\n",
       "      <td>humans</td>\n",
       "      <td>4.315795</td>\n",
       "    </tr>\n",
       "    <tr>\n",
       "      <th>3972</th>\n",
       "      <td>as3973</td>\n",
       "      <td>fanney khan</td>\n",
       "      <td>4.306397</td>\n",
       "    </tr>\n",
       "    <tr>\n",
       "      <th>3531</th>\n",
       "      <td>as3532</td>\n",
       "      <td>15-minute hiit two 8.0 (tabata workout with we...</td>\n",
       "      <td>4.281695</td>\n",
       "    </tr>\n",
       "  </tbody>\n",
       "</table>\n",
       "</div>"
      ],
      "text/plain": [
       "          id                                              title  \\\n",
       "4134  as4135                                          my 3 boys   \n",
       "2138  as2139                            ian bagg: conversations   \n",
       "2167  as2168                                             humans   \n",
       "3972  as3973                                        fanney khan   \n",
       "3531  as3532  15-minute hiit two 8.0 (tabata workout with we...   \n",
       "\n",
       "      Estimate_Score  \n",
       "4134        4.407699  \n",
       "2138        4.344689  \n",
       "2167        4.315795  \n",
       "3972        4.306397  \n",
       "3531        4.281695  "
      ]
     },
     "execution_count": 20,
     "metadata": {},
     "output_type": "execute_result"
    }
   ],
   "source": [
    "recomendaciones_usuario = recomendaciones_usuario.sort_values('Estimate_Score', ascending=False)\n",
    "recomendaciones_usuario.head()"
   ]
  },
  {
   "cell_type": "markdown",
   "id": "83d72abe",
   "metadata": {},
   "source": [
    "## Evaluacion"
   ]
  },
  {
   "cell_type": "code",
   "execution_count": 21,
   "id": "d02fbcd7",
   "metadata": {},
   "outputs": [
    {
     "name": "stdout",
     "output_type": "stream",
     "text": [
      "RMSE: 0.9953\n"
     ]
    },
    {
     "data": {
      "text/plain": [
       "0.9953459447380018"
      ]
     },
     "execution_count": 21,
     "metadata": {},
     "output_type": "execute_result"
    }
   ],
   "source": [
    "from surprise import accuracy\n",
    "\n",
    "accuracy.rmse(predictions)"
   ]
  },
  {
   "cell_type": "code",
   "execution_count": 24,
   "id": "608d6cde",
   "metadata": {},
   "outputs": [
    {
     "name": "stdout",
     "output_type": "stream",
     "text": [
      "Running on local URL:  http://127.0.0.1:7862\n",
      "Running on public URL: https://8851bc00fc540a2b6e.gradio.live\n",
      "\n",
      "This share link expires in 72 hours. For free permanent hosting and GPU upgrades (NEW!), check out Spaces: https://huggingface.co/spaces\n"
     ]
    },
    {
     "data": {
      "text/html": [
       "<div><iframe src=\"https://8851bc00fc540a2b6e.gradio.live\" width=\"100%\" height=\"500\" allow=\"autoplay; camera; microphone; clipboard-read; clipboard-write;\" frameborder=\"0\" allowfullscreen></iframe></div>"
      ],
      "text/plain": [
       "<IPython.core.display.HTML object>"
      ]
     },
     "metadata": {},
     "output_type": "display_data"
    },
    {
     "data": {
      "text/plain": []
     },
     "execution_count": 24,
     "metadata": {},
     "output_type": "execute_result"
    }
   ],
   "source": [
    "import gradio as gr\n",
    "def greet(numero_usuario):\n",
    "    usuario = int(numero_usuario)\n",
    "    rating = 4   # Tomamos películas a las que haya calificado con mas de 3 estrellas\n",
    "    df_user = df1[(df1['userId'] == usuario) & (df1['score'] >= rating)]\n",
    "    df_user = df_user.reset_index(drop=True)\n",
    "    df_user = df_user.merge(df2, on=\"id\")\n",
    "    recomendaciones_usuario = df2.iloc[:4499].copy()\n",
    "    recomendaciones_usuario['Estimate_Score'] = recomendaciones_usuario['id'].apply(lambda x: model.predict(usuario, x).est)\n",
    "    recomendaciones_usuario = recomendaciones_usuario.sort_values('Estimate_Score', ascending=False)\n",
    "    contar = 0\n",
    "    lista_recomendaciones = []\n",
    "    lista_recomendaciones2 = []\n",
    "    for linea in recomendaciones_usuario[\"title\"]:\n",
    "        lista_recomendaciones.append(linea)\n",
    "        break\n",
    "    for linea2 in recomendaciones_usuario[\"Estimate_Score\"]:\n",
    "        lista_recomendaciones2.append(linea2)\n",
    "        return f\"Pelicula que te recomiendo: {lista_recomendaciones} creo que la calificarias con un:{lista_recomendaciones2}\"\n",
    "\n",
    "    \n",
    "\n",
    "demo = gr.Interface(fn=greet, inputs=\"text\", outputs=\"text\",title=\"Recomendacion de Peliculas por usuario id\",\n",
    "    description=\"Este es mi modelo de ML para recomendar peliculas\",)\n",
    "\n",
    "demo.launch()"
   ]
  }
 ],
 "metadata": {
  "kernelspec": {
   "display_name": "Python 3",
   "language": "python",
   "name": "python3"
  },
  "language_info": {
   "codemirror_mode": {
    "name": "ipython",
    "version": 3
   },
   "file_extension": ".py",
   "mimetype": "text/x-python",
   "name": "python",
   "nbconvert_exporter": "python",
   "pygments_lexer": "ipython3",
   "version": "3.10.5"
  },
  "vscode": {
   "interpreter": {
    "hash": "7579aee364a2e290dfc6a620616239004625e0c1356cc42c7bb47894a11803af"
   }
  }
 },
 "nbformat": 4,
 "nbformat_minor": 5
}
