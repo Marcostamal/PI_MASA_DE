{
 "cells": [
  {
   "cell_type": "markdown",
   "id": "c23dc2c2",
   "metadata": {},
   "source": [
    "## Importamos las librerias"
   ]
  },
  {
   "cell_type": "code",
   "execution_count": 1,
   "id": "66640d97",
   "metadata": {},
   "outputs": [],
   "source": [
    "import pandas as pd\n",
    "from datetime import date\n",
    "import numpy as np"
   ]
  },
  {
   "cell_type": "markdown",
   "id": "ca2f6305",
   "metadata": {},
   "source": [
    "## Cargamos los CSV"
   ]
  },
  {
   "cell_type": "code",
   "execution_count": 2,
   "id": "1cd607b4",
   "metadata": {},
   "outputs": [],
   "source": [
    "cv1 = pd.read_csv(filepath_or_buffer=\"Datos_usuario/1.csv\",header=0, usecols=[\"userId\",\"rating\",\"timestamp\",\"movieId\"])\n",
    "cv2 = pd.read_csv(filepath_or_buffer=\"Datos_usuario/2.csv\",header=0, usecols=[\"userId\",\"rating\",\"timestamp\",\"movieId\"])\n",
    "cv3 = pd.read_csv(filepath_or_buffer=\"Datos_usuario/3.csv\",header=0, usecols=[\"userId\",\"rating\",\"timestamp\",\"movieId\"])\n",
    "cv4 = pd.read_csv(filepath_or_buffer=\"Datos_usuario/4.csv\",header=0, usecols=[\"userId\",\"rating\",\"timestamp\",\"movieId\"])\n",
    "cv5 = pd.read_csv(filepath_or_buffer=\"Datos_usuario/5.csv\",header=0, usecols=[\"userId\",\"rating\",\"timestamp\",\"movieId\"])\n",
    "cv6 = pd.read_csv(filepath_or_buffer=\"Datos_usuario/6.csv\",header=0, usecols=[\"userId\",\"rating\",\"timestamp\",\"movieId\"])\n",
    "cv7 = pd.read_csv(filepath_or_buffer=\"Datos_usuario/7.csv\",header=0, usecols=[\"userId\",\"rating\",\"timestamp\",\"movieId\"])\n",
    "cv8 = pd.read_csv(filepath_or_buffer=\"Datos_usuario/8.csv\",header=0, usecols=[\"userId\",\"rating\",\"timestamp\",\"movieId\"])"
   ]
  },
  {
   "cell_type": "markdown",
   "id": "e1f114bd",
   "metadata": {},
   "source": [
    "## Visualizamos la info de los DataFrames"
   ]
  },
  {
   "cell_type": "code",
   "execution_count": 3,
   "id": "ad33b156",
   "metadata": {
    "scrolled": true
   },
   "outputs": [
    {
     "name": "stdout",
     "output_type": "stream",
     "text": [
      "<class 'pandas.core.frame.DataFrame'>\n",
      "RangeIndex: 1500000 entries, 0 to 1499999\n",
      "Data columns (total 4 columns):\n",
      " #   Column     Non-Null Count    Dtype  \n",
      "---  ------     --------------    -----  \n",
      " 0   userId     1500000 non-null  int64  \n",
      " 1   rating     1500000 non-null  float64\n",
      " 2   timestamp  1500000 non-null  int64  \n",
      " 3   movieId    1500000 non-null  object \n",
      "dtypes: float64(1), int64(2), object(1)\n",
      "memory usage: 45.8+ MB\n"
     ]
    }
   ],
   "source": [
    "cv1.info()"
   ]
  },
  {
   "cell_type": "code",
   "execution_count": 4,
   "id": "30ac5fa7",
   "metadata": {},
   "outputs": [
    {
     "name": "stdout",
     "output_type": "stream",
     "text": [
      "<class 'pandas.core.frame.DataFrame'>\n",
      "RangeIndex: 1500000 entries, 0 to 1499999\n",
      "Data columns (total 4 columns):\n",
      " #   Column     Non-Null Count    Dtype  \n",
      "---  ------     --------------    -----  \n",
      " 0   userId     1500000 non-null  int64  \n",
      " 1   rating     1500000 non-null  float64\n",
      " 2   timestamp  1500000 non-null  int64  \n",
      " 3   movieId    1500000 non-null  object \n",
      "dtypes: float64(1), int64(2), object(1)\n",
      "memory usage: 45.8+ MB\n"
     ]
    }
   ],
   "source": [
    "cv2.info()"
   ]
  },
  {
   "cell_type": "code",
   "execution_count": 5,
   "id": "3654ab99",
   "metadata": {},
   "outputs": [
    {
     "name": "stdout",
     "output_type": "stream",
     "text": [
      "<class 'pandas.core.frame.DataFrame'>\n",
      "RangeIndex: 1500000 entries, 0 to 1499999\n",
      "Data columns (total 4 columns):\n",
      " #   Column     Non-Null Count    Dtype  \n",
      "---  ------     --------------    -----  \n",
      " 0   userId     1500000 non-null  int64  \n",
      " 1   rating     1500000 non-null  float64\n",
      " 2   timestamp  1500000 non-null  int64  \n",
      " 3   movieId    1500000 non-null  object \n",
      "dtypes: float64(1), int64(2), object(1)\n",
      "memory usage: 45.8+ MB\n"
     ]
    }
   ],
   "source": [
    "cv3.info()"
   ]
  },
  {
   "cell_type": "code",
   "execution_count": 6,
   "id": "633e3cd8",
   "metadata": {},
   "outputs": [
    {
     "name": "stdout",
     "output_type": "stream",
     "text": [
      "<class 'pandas.core.frame.DataFrame'>\n",
      "RangeIndex: 1500000 entries, 0 to 1499999\n",
      "Data columns (total 4 columns):\n",
      " #   Column     Non-Null Count    Dtype  \n",
      "---  ------     --------------    -----  \n",
      " 0   userId     1500000 non-null  int64  \n",
      " 1   rating     1500000 non-null  float64\n",
      " 2   timestamp  1500000 non-null  int64  \n",
      " 3   movieId    1500000 non-null  object \n",
      "dtypes: float64(1), int64(2), object(1)\n",
      "memory usage: 45.8+ MB\n"
     ]
    }
   ],
   "source": [
    "cv4.info()"
   ]
  },
  {
   "cell_type": "code",
   "execution_count": 7,
   "id": "0ffc147e",
   "metadata": {},
   "outputs": [
    {
     "name": "stdout",
     "output_type": "stream",
     "text": [
      "<class 'pandas.core.frame.DataFrame'>\n",
      "RangeIndex: 1500000 entries, 0 to 1499999\n",
      "Data columns (total 4 columns):\n",
      " #   Column     Non-Null Count    Dtype  \n",
      "---  ------     --------------    -----  \n",
      " 0   userId     1500000 non-null  int64  \n",
      " 1   rating     1500000 non-null  float64\n",
      " 2   timestamp  1500000 non-null  int64  \n",
      " 3   movieId    1500000 non-null  object \n",
      "dtypes: float64(1), int64(2), object(1)\n",
      "memory usage: 45.8+ MB\n"
     ]
    }
   ],
   "source": [
    "cv5.info()"
   ]
  },
  {
   "cell_type": "code",
   "execution_count": 8,
   "id": "51212a21",
   "metadata": {},
   "outputs": [
    {
     "name": "stdout",
     "output_type": "stream",
     "text": [
      "<class 'pandas.core.frame.DataFrame'>\n",
      "RangeIndex: 1500000 entries, 0 to 1499999\n",
      "Data columns (total 4 columns):\n",
      " #   Column     Non-Null Count    Dtype  \n",
      "---  ------     --------------    -----  \n",
      " 0   userId     1500000 non-null  int64  \n",
      " 1   rating     1500000 non-null  float64\n",
      " 2   timestamp  1500000 non-null  int64  \n",
      " 3   movieId    1500000 non-null  object \n",
      "dtypes: float64(1), int64(2), object(1)\n",
      "memory usage: 45.8+ MB\n"
     ]
    }
   ],
   "source": [
    "cv6.info()"
   ]
  },
  {
   "cell_type": "code",
   "execution_count": 9,
   "id": "be655c76",
   "metadata": {
    "scrolled": true
   },
   "outputs": [
    {
     "name": "stdout",
     "output_type": "stream",
     "text": [
      "<class 'pandas.core.frame.DataFrame'>\n",
      "RangeIndex: 524289 entries, 0 to 524288\n",
      "Data columns (total 4 columns):\n",
      " #   Column     Non-Null Count   Dtype  \n",
      "---  ------     --------------   -----  \n",
      " 0   userId     524289 non-null  int64  \n",
      " 1   rating     524289 non-null  float64\n",
      " 2   timestamp  524289 non-null  int64  \n",
      " 3   movieId    524289 non-null  object \n",
      "dtypes: float64(1), int64(2), object(1)\n",
      "memory usage: 16.0+ MB\n"
     ]
    }
   ],
   "source": [
    "cv7.info()"
   ]
  },
  {
   "cell_type": "code",
   "execution_count": 10,
   "id": "fc04c3f2",
   "metadata": {},
   "outputs": [
    {
     "name": "stdout",
     "output_type": "stream",
     "text": [
      "<class 'pandas.core.frame.DataFrame'>\n",
      "RangeIndex: 1500000 entries, 0 to 1499999\n",
      "Data columns (total 4 columns):\n",
      " #   Column     Non-Null Count    Dtype  \n",
      "---  ------     --------------    -----  \n",
      " 0   userId     1500000 non-null  int64  \n",
      " 1   rating     1500000 non-null  float64\n",
      " 2   timestamp  1500000 non-null  int64  \n",
      " 3   movieId    1500000 non-null  object \n",
      "dtypes: float64(1), int64(2), object(1)\n",
      "memory usage: 45.8+ MB\n"
     ]
    }
   ],
   "source": [
    "cv8.info()"
   ]
  },
  {
   "cell_type": "markdown",
   "id": "0e8fc453",
   "metadata": {},
   "source": [
    "## Unimos todos los DataFrames"
   ]
  },
  {
   "cell_type": "code",
   "execution_count": 11,
   "id": "8fade75f",
   "metadata": {},
   "outputs": [],
   "source": [
    "all_csv = pd.concat([cv1,cv2,cv3,cv4,cv5,cv6,cv7,cv8], axis = 0, join = \"outer\", ignore_index=True)"
   ]
  },
  {
   "cell_type": "code",
   "execution_count": 12,
   "id": "14ae7067",
   "metadata": {},
   "outputs": [
    {
     "data": {
      "text/plain": [
       "(11024289, 4)"
      ]
     },
     "execution_count": 12,
     "metadata": {},
     "output_type": "execute_result"
    }
   ],
   "source": [
    "all_csv.shape # Vemos la cantidad de filas y de columnas"
   ]
  },
  {
   "cell_type": "markdown",
   "id": "a4104ba4",
   "metadata": {},
   "source": [
    "## Cambiamos el nombre del campo \"rating\" por \"score\""
   ]
  },
  {
   "cell_type": "code",
   "execution_count": 13,
   "id": "c008362b",
   "metadata": {},
   "outputs": [],
   "source": [
    "all_csv.rename(columns={\"rating\":\"score\"}, inplace=True)"
   ]
  },
  {
   "cell_type": "markdown",
   "id": "17c4ca92",
   "metadata": {},
   "source": [
    "### Visualizamos como son los datos"
   ]
  },
  {
   "cell_type": "code",
   "execution_count": 14,
   "id": "fcdc1be9",
   "metadata": {
    "scrolled": true
   },
   "outputs": [
    {
     "data": {
      "text/html": [
       "<div>\n",
       "<style scoped>\n",
       "    .dataframe tbody tr th:only-of-type {\n",
       "        vertical-align: middle;\n",
       "    }\n",
       "\n",
       "    .dataframe tbody tr th {\n",
       "        vertical-align: top;\n",
       "    }\n",
       "\n",
       "    .dataframe thead th {\n",
       "        text-align: right;\n",
       "    }\n",
       "</style>\n",
       "<table border=\"1\" class=\"dataframe\">\n",
       "  <thead>\n",
       "    <tr style=\"text-align: right;\">\n",
       "      <th></th>\n",
       "      <th>userId</th>\n",
       "      <th>score</th>\n",
       "      <th>timestamp</th>\n",
       "      <th>movieId</th>\n",
       "    </tr>\n",
       "  </thead>\n",
       "  <tbody>\n",
       "    <tr>\n",
       "      <th>0</th>\n",
       "      <td>1</td>\n",
       "      <td>1.0</td>\n",
       "      <td>1425941529</td>\n",
       "      <td>as680</td>\n",
       "    </tr>\n",
       "    <tr>\n",
       "      <th>1</th>\n",
       "      <td>1</td>\n",
       "      <td>4.5</td>\n",
       "      <td>1425942435</td>\n",
       "      <td>ns2186</td>\n",
       "    </tr>\n",
       "    <tr>\n",
       "      <th>2</th>\n",
       "      <td>1</td>\n",
       "      <td>5.0</td>\n",
       "      <td>1425941523</td>\n",
       "      <td>hs2381</td>\n",
       "    </tr>\n",
       "    <tr>\n",
       "      <th>3</th>\n",
       "      <td>1</td>\n",
       "      <td>5.0</td>\n",
       "      <td>1425941546</td>\n",
       "      <td>ns3663</td>\n",
       "    </tr>\n",
       "    <tr>\n",
       "      <th>4</th>\n",
       "      <td>1</td>\n",
       "      <td>5.0</td>\n",
       "      <td>1425941556</td>\n",
       "      <td>as9500</td>\n",
       "    </tr>\n",
       "  </tbody>\n",
       "</table>\n",
       "</div>"
      ],
      "text/plain": [
       "   userId  score   timestamp movieId\n",
       "0       1    1.0  1425941529   as680\n",
       "1       1    4.5  1425942435  ns2186\n",
       "2       1    5.0  1425941523  hs2381\n",
       "3       1    5.0  1425941546  ns3663\n",
       "4       1    5.0  1425941556  as9500"
      ]
     },
     "execution_count": 14,
     "metadata": {},
     "output_type": "execute_result"
    }
   ],
   "source": [
    "all_csv.head(5)"
   ]
  },
  {
   "cell_type": "code",
   "execution_count": 15,
   "id": "be4f307e",
   "metadata": {
    "scrolled": true
   },
   "outputs": [
    {
     "data": {
      "text/html": [
       "<div>\n",
       "<style scoped>\n",
       "    .dataframe tbody tr th:only-of-type {\n",
       "        vertical-align: middle;\n",
       "    }\n",
       "\n",
       "    .dataframe tbody tr th {\n",
       "        vertical-align: top;\n",
       "    }\n",
       "\n",
       "    .dataframe thead th {\n",
       "        text-align: right;\n",
       "    }\n",
       "</style>\n",
       "<table border=\"1\" class=\"dataframe\">\n",
       "  <thead>\n",
       "    <tr style=\"text-align: right;\">\n",
       "      <th></th>\n",
       "      <th>userId</th>\n",
       "      <th>score</th>\n",
       "      <th>timestamp</th>\n",
       "      <th>movieId</th>\n",
       "    </tr>\n",
       "  </thead>\n",
       "  <tbody>\n",
       "    <tr>\n",
       "      <th>11024284</th>\n",
       "      <td>124380</td>\n",
       "      <td>4.5</td>\n",
       "      <td>1196786159</td>\n",
       "      <td>ns5272</td>\n",
       "    </tr>\n",
       "    <tr>\n",
       "      <th>11024285</th>\n",
       "      <td>124380</td>\n",
       "      <td>2.5</td>\n",
       "      <td>1196786030</td>\n",
       "      <td>ns5492</td>\n",
       "    </tr>\n",
       "    <tr>\n",
       "      <th>11024286</th>\n",
       "      <td>124380</td>\n",
       "      <td>3.5</td>\n",
       "      <td>1196785679</td>\n",
       "      <td>hs305</td>\n",
       "    </tr>\n",
       "    <tr>\n",
       "      <th>11024287</th>\n",
       "      <td>124380</td>\n",
       "      <td>4.5</td>\n",
       "      <td>1196787089</td>\n",
       "      <td>ns7881</td>\n",
       "    </tr>\n",
       "    <tr>\n",
       "      <th>11024288</th>\n",
       "      <td>124380</td>\n",
       "      <td>1.5</td>\n",
       "      <td>1196785847</td>\n",
       "      <td>as883</td>\n",
       "    </tr>\n",
       "  </tbody>\n",
       "</table>\n",
       "</div>"
      ],
      "text/plain": [
       "          userId  score   timestamp movieId\n",
       "11024284  124380    4.5  1196786159  ns5272\n",
       "11024285  124380    2.5  1196786030  ns5492\n",
       "11024286  124380    3.5  1196785679   hs305\n",
       "11024287  124380    4.5  1196787089  ns7881\n",
       "11024288  124380    1.5  1196785847   as883"
      ]
     },
     "execution_count": 15,
     "metadata": {},
     "output_type": "execute_result"
    }
   ],
   "source": [
    "all_csv.tail(5)"
   ]
  },
  {
   "cell_type": "markdown",
   "id": "9b499a1f",
   "metadata": {},
   "source": [
    "### Genero un DataFrame con datos agrupados por userId para conocer un poco sobre la cantidad de resenas que hicieron "
   ]
  },
  {
   "cell_type": "code",
   "execution_count": 16,
   "id": "2b6a8fd4",
   "metadata": {},
   "outputs": [
    {
     "data": {
      "text/html": [
       "<div>\n",
       "<style scoped>\n",
       "    .dataframe tbody tr th:only-of-type {\n",
       "        vertical-align: middle;\n",
       "    }\n",
       "\n",
       "    .dataframe tbody tr th {\n",
       "        vertical-align: top;\n",
       "    }\n",
       "\n",
       "    .dataframe thead th {\n",
       "        text-align: right;\n",
       "    }\n",
       "</style>\n",
       "<table border=\"1\" class=\"dataframe\">\n",
       "  <thead>\n",
       "    <tr style=\"text-align: right;\">\n",
       "      <th></th>\n",
       "      <th>cantidad_resenas</th>\n",
       "    </tr>\n",
       "    <tr>\n",
       "      <th>userId</th>\n",
       "      <th></th>\n",
       "    </tr>\n",
       "  </thead>\n",
       "  <tbody>\n",
       "    <tr>\n",
       "      <th>1</th>\n",
       "      <td>27</td>\n",
       "    </tr>\n",
       "    <tr>\n",
       "      <th>2</th>\n",
       "      <td>22</td>\n",
       "    </tr>\n",
       "    <tr>\n",
       "      <th>3</th>\n",
       "      <td>10</td>\n",
       "    </tr>\n",
       "    <tr>\n",
       "      <th>4</th>\n",
       "      <td>62</td>\n",
       "    </tr>\n",
       "    <tr>\n",
       "      <th>5</th>\n",
       "      <td>26</td>\n",
       "    </tr>\n",
       "  </tbody>\n",
       "</table>\n",
       "</div>"
      ],
      "text/plain": [
       "        cantidad_resenas\n",
       "userId                  \n",
       "1                     27\n",
       "2                     22\n",
       "3                     10\n",
       "4                     62\n",
       "5                     26"
      ]
     },
     "execution_count": 16,
     "metadata": {},
     "output_type": "execute_result"
    }
   ],
   "source": [
    "cantidad = all_csv.groupby(\"userId\").count()\n",
    "cantidad.drop([\"timestamp\", \"movieId\"], axis=1, inplace=True)\n",
    "cantidad.rename(columns={\"score\":\"cantidad_resenas\"}, inplace=True)\n",
    "cantidad.head()"
   ]
  },
  {
   "cell_type": "code",
   "execution_count": 17,
   "id": "09ea4d3e",
   "metadata": {
    "scrolled": true
   },
   "outputs": [
    {
     "data": {
      "text/plain": [
       "cantidad_resenas    18276\n",
       "dtype: int64"
      ]
     },
     "execution_count": 17,
     "metadata": {},
     "output_type": "execute_result"
    }
   ],
   "source": [
    "cantidad.max()"
   ]
  },
  {
   "cell_type": "code",
   "execution_count": 18,
   "id": "8e59d02b",
   "metadata": {
    "scrolled": true
   },
   "outputs": [
    {
     "data": {
      "text/html": [
       "<div>\n",
       "<style scoped>\n",
       "    .dataframe tbody tr th:only-of-type {\n",
       "        vertical-align: middle;\n",
       "    }\n",
       "\n",
       "    .dataframe tbody tr th {\n",
       "        vertical-align: top;\n",
       "    }\n",
       "\n",
       "    .dataframe thead th {\n",
       "        text-align: right;\n",
       "    }\n",
       "</style>\n",
       "<table border=\"1\" class=\"dataframe\">\n",
       "  <thead>\n",
       "    <tr style=\"text-align: right;\">\n",
       "      <th></th>\n",
       "      <th>cantidad_resenas</th>\n",
       "    </tr>\n",
       "    <tr>\n",
       "      <th>userId</th>\n",
       "      <th></th>\n",
       "    </tr>\n",
       "  </thead>\n",
       "  <tbody>\n",
       "    <tr>\n",
       "      <th>45811</th>\n",
       "      <td>18276</td>\n",
       "    </tr>\n",
       "  </tbody>\n",
       "</table>\n",
       "</div>"
      ],
      "text/plain": [
       "        cantidad_resenas\n",
       "userId                  \n",
       "45811              18276"
      ]
     },
     "execution_count": 18,
     "metadata": {},
     "output_type": "execute_result"
    }
   ],
   "source": [
    "cantidad[cantidad[\"cantidad_resenas\"] == 18276]"
   ]
  },
  {
   "cell_type": "code",
   "execution_count": 19,
   "id": "530216a8",
   "metadata": {
    "scrolled": true
   },
   "outputs": [
    {
     "data": {
      "text/plain": [
       "cantidad_resenas    2129\n",
       "dtype: int64"
      ]
     },
     "execution_count": 19,
     "metadata": {},
     "output_type": "execute_result"
    }
   ],
   "source": [
    "cantidad[cantidad[\"cantidad_resenas\"] == 1].count()  # cantidad de usuarios que solo han hecho una resena"
   ]
  },
  {
   "cell_type": "code",
   "execution_count": 20,
   "id": "25c1ac52",
   "metadata": {
    "scrolled": true
   },
   "outputs": [
    {
     "data": {
      "text/plain": [
       "cantidad_resenas    1529\n",
       "dtype: int64"
      ]
     },
     "execution_count": 20,
     "metadata": {},
     "output_type": "execute_result"
    }
   ],
   "source": [
    "cantidad[cantidad[\"cantidad_resenas\"] == 2].count() # cantidad de usuarios que solo han hecho dos resena"
   ]
  },
  {
   "cell_type": "code",
   "execution_count": 21,
   "id": "6880cd6e",
   "metadata": {
    "scrolled": true
   },
   "outputs": [
    {
     "data": {
      "text/plain": [
       "cantidad_resenas    1439\n",
       "dtype: int64"
      ]
     },
     "execution_count": 21,
     "metadata": {},
     "output_type": "execute_result"
    }
   ],
   "source": [
    "cantidad[cantidad[\"cantidad_resenas\"] == 3].count() # cantidad de usuarios que solo han hecho tres resena"
   ]
  },
  {
   "cell_type": "code",
   "execution_count": 22,
   "id": "6113d64c",
   "metadata": {},
   "outputs": [
    {
     "data": {
      "text/plain": [
       "cantidad_resenas    1213\n",
       "dtype: int64"
      ]
     },
     "execution_count": 22,
     "metadata": {},
     "output_type": "execute_result"
    }
   ],
   "source": [
    "cantidad[cantidad[\"cantidad_resenas\"] == 4].count() # cantidad de usuarios que solo han hecho cuatro resena"
   ]
  },
  {
   "cell_type": "markdown",
   "id": "dcf53e42",
   "metadata": {},
   "source": [
    "Me he dado cuenta de que los datos estan ordenados por numero de usuario y el promedio de peliculas que los usuarion han rankeado a sido de 95, pero hay un usuario que ha rankeado 18,276 peliculas. de momento no se como interpretar esta info, tambien hay 2129 usuarios que solo han rankeado esta pelicula, solo me queda pensar de que elimine el 13% de los datos  con el unico fundamento de tener un archivo final menos pesado."
   ]
  },
  {
   "cell_type": "code",
   "execution_count": 23,
   "id": "e9556f07",
   "metadata": {},
   "outputs": [],
   "source": [
    "all_csv.drop(list(range(1500000,2999999)), inplace=True) # Elimino el segundo csv\n",
    "all_csv.drop_duplicates(inplace=True)"
   ]
  },
  {
   "cell_type": "code",
   "execution_count": 24,
   "id": "fae8920e",
   "metadata": {},
   "outputs": [
    {
     "data": {
      "text/plain": [
       "9524176"
      ]
     },
     "execution_count": 24,
     "metadata": {},
     "output_type": "execute_result"
    }
   ],
   "source": [
    "len(all_csv)"
   ]
  },
  {
   "cell_type": "markdown",
   "id": "daf3182b",
   "metadata": {},
   "source": [
    "## Transformo el campo \"timestamp\" a un formato descente"
   ]
  },
  {
   "cell_type": "code",
   "execution_count": 25,
   "id": "7c3d4b12",
   "metadata": {},
   "outputs": [],
   "source": [
    "all_csv.timestamp = all_csv[\"timestamp\"].apply(lambda x : date.fromtimestamp(x))"
   ]
  },
  {
   "cell_type": "code",
   "execution_count": 26,
   "id": "8833ff97",
   "metadata": {
    "scrolled": false
   },
   "outputs": [
    {
     "data": {
      "text/html": [
       "<div>\n",
       "<style scoped>\n",
       "    .dataframe tbody tr th:only-of-type {\n",
       "        vertical-align: middle;\n",
       "    }\n",
       "\n",
       "    .dataframe tbody tr th {\n",
       "        vertical-align: top;\n",
       "    }\n",
       "\n",
       "    .dataframe thead th {\n",
       "        text-align: right;\n",
       "    }\n",
       "</style>\n",
       "<table border=\"1\" class=\"dataframe\">\n",
       "  <thead>\n",
       "    <tr style=\"text-align: right;\">\n",
       "      <th></th>\n",
       "      <th>userId</th>\n",
       "      <th>score</th>\n",
       "      <th>timestamp</th>\n",
       "      <th>movieId</th>\n",
       "    </tr>\n",
       "  </thead>\n",
       "  <tbody>\n",
       "    <tr>\n",
       "      <th>0</th>\n",
       "      <td>1</td>\n",
       "      <td>1.0</td>\n",
       "      <td>2015-03-09</td>\n",
       "      <td>as680</td>\n",
       "    </tr>\n",
       "    <tr>\n",
       "      <th>1</th>\n",
       "      <td>1</td>\n",
       "      <td>4.5</td>\n",
       "      <td>2015-03-09</td>\n",
       "      <td>ns2186</td>\n",
       "    </tr>\n",
       "    <tr>\n",
       "      <th>2</th>\n",
       "      <td>1</td>\n",
       "      <td>5.0</td>\n",
       "      <td>2015-03-09</td>\n",
       "      <td>hs2381</td>\n",
       "    </tr>\n",
       "    <tr>\n",
       "      <th>3</th>\n",
       "      <td>1</td>\n",
       "      <td>5.0</td>\n",
       "      <td>2015-03-09</td>\n",
       "      <td>ns3663</td>\n",
       "    </tr>\n",
       "    <tr>\n",
       "      <th>4</th>\n",
       "      <td>1</td>\n",
       "      <td>5.0</td>\n",
       "      <td>2015-03-09</td>\n",
       "      <td>as9500</td>\n",
       "    </tr>\n",
       "  </tbody>\n",
       "</table>\n",
       "</div>"
      ],
      "text/plain": [
       "   userId  score   timestamp movieId\n",
       "0       1    1.0  2015-03-09   as680\n",
       "1       1    4.5  2015-03-09  ns2186\n",
       "2       1    5.0  2015-03-09  hs2381\n",
       "3       1    5.0  2015-03-09  ns3663\n",
       "4       1    5.0  2015-03-09  as9500"
      ]
     },
     "execution_count": 26,
     "metadata": {},
     "output_type": "execute_result"
    }
   ],
   "source": [
    "all_csv.head()"
   ]
  },
  {
   "cell_type": "markdown",
   "id": "2f93ecf4",
   "metadata": {},
   "source": [
    "## Exportamos los datos a un csv"
   ]
  },
  {
   "cell_type": "code",
   "execution_count": 27,
   "id": "8f4beb49",
   "metadata": {},
   "outputs": [],
   "source": [
    "all_csv.to_csv(\"Data_util/Ratings.csv\", index=False)"
   ]
  }
 ],
 "metadata": {
  "kernelspec": {
   "display_name": "Python 3 (ipykernel)",
   "language": "python",
   "name": "python3"
  },
  "language_info": {
   "codemirror_mode": {
    "name": "ipython",
    "version": 3
   },
   "file_extension": ".py",
   "mimetype": "text/x-python",
   "name": "python",
   "nbconvert_exporter": "python",
   "pygments_lexer": "ipython3",
   "version": "3.9.13"
  }
 },
 "nbformat": 4,
 "nbformat_minor": 5
}
